{
 "cells": [
  {
   "cell_type": "markdown",
   "metadata": {
    "colab_type": "text",
    "id": "GHl6N3Xfkctm"
   },
   "source": [
    "# Deep Learning Homework 3\n",
    "\n",
    "-------------------------------\n",
    "\n",
    "\n",
    "**Name:** Nick Thomson\n",
    "\n",
    "**SN:** 16121669\n",
    "\n",
    "-----------------------------------\n",
    "\n",
    "\n",
    "**Start date:** *13th March 2018*\n",
    "\n",
    "**Due date:** *29th March 2018, 11:55 pm*\n",
    "\n",
    "------------------------------------\n",
    "\n",
    "## How to Submit\n",
    "\n",
    "When you have completed the exercises and everything has finsihed running, click on 'File' in the menu-bar and then 'Download .ipynb'. This file must be submitted to Moodle named as **studentnumber_DL_hw3.ipynb** before the deadline above.\n",
    "\n",
    "Also send a **sharable link** to the notebook at the following email: ucl.coursework.submit@gmail.com. You can also make it sharable via link to everyone, up to you.\n",
    "\n",
    "Please compile all results, all plots/figures and all answers to the understanding/analysis results questions into a PDF. Name convention: **studentnumber_DL_hw3.pdf**. Do not include any of the code (we will use the notebook for that). \n",
    "\n",
    "**Page limit: 15 pg **.\n",
    "\n",
    "------------------------------------\n",
    "\n",
    "## PART 1: MNIST as a sequence (follow-up from last assignment)\n",
    "In this assignment we will be using the [MNIST digit dataset](https://yann.lecun.com/exdb/mnist/). The dataset contains images of hand-written digits ($0-9$), and the corresponding labels. The images have a resolution of $28\\times 28$ pixels. This is the same dataset as in Assignment 1, but we will be using this data a bit differently this time around. Since this assignment will be focusing on recurrent networks that model sequential data, we will be looking at each image as a sequence: the networks you train will be \"reading\" the image one row at a time, from top to bottom (we could even do pixel-by-pixel, but in the interest of time we'll do row-by-row which is faster).  Also, we will work with a binarized version of MNIST -- we constrain the values of the pixels to be either $0$ or $1$. You can do this by applying the method `binarize`, defined below, to the raw images.\n",
    "\n",
    "<img src=\"https://github.com/bodono/files/blob/master/mnist_as_sequence.png?raw=true\">\n",
    "\n",
    "* We take the MNIST images, binarise them, and interpret them as a sequence of pixels from top-left to bottom-right. (\"Task 2\" refers to the next homework, wherein you will be using the sequence for pixel prediction).\n",
    "\n",
    "## Recurrent Models for MNIST\n",
    "\n",
    "As discussed in the lectures, there are various ways and tasks for which we can use recurrent models. A depiction of the most common scenarios is available in the Figure below. In this assignment and the following one we will look at two of these forms: **many-to-one** (sequence to label/decision) and the **many-to-many** scenario where the model receives an input and produces an output at every time step. You will use these to solve the following tasks: i) pixel prediction  and ii) in-painting.\n",
    "\n",
    "<img src=\"https://github.com/bodono/files/blob/master/rnn_models.png?raw=true\">\n",
    "* ([Figure adapted from Karpathy's The Unreasonable Effectiveness of Recurrent Neural Networks](http://karpathy.github.io/2015/05/21/rnn-effectiveness)). You will be implementing variants of *many-to-one* for classification (in this homework), and *many-to-many* for prediction (in the next homework).\n"
   ]
  },
  {
   "cell_type": "markdown",
   "metadata": {
    "colab_type": "text",
    "id": "Dj6WmOJKYRTB"
   },
   "source": [
    "## Task 1: (Next) Pixel prediction (35 pts)\n",
    "In this part, you will train a **many-to-many** recurrent model: at each time $t$, the model receives as input a pixel value $x_t$ and tries to predict the next pixel in the images $x_{t+1}$ based on the current input and the recurrent state. Thus, your output function is now a probability over the value of pixel $x_{t+1}$ -- which can be either $0$ or $1$ (black or white).\n",
    "\\begin{equation}\n",
    "    \\hat{p}(x_{t+1}|x_{1:t}) = g(x_{t}, h_{t}, c_{t})\n",
    "\\end{equation}\n",
    "Once we get to observe the actual value of $x_{t+1}$ at the next time-step, we can compute the cross-entropy between our predicted probability $\\hat{p}(x_{t+1}|x_{1:t})$ and the observed value (pixel in the image). We can (and will) do that for every time-step prediction within a sequence. This will provide us with the training signal for optimizing the parameters of the mapping $g$ and the recurrent connections -- remember these are shared!, they do not change with $t$.\n",
    "\n",
    "\n",
    "\n"
   ]
  },
  {
   "cell_type": "markdown",
   "metadata": {
    "colab_type": "text",
    "id": "cqrTk9bLYTpp"
   },
   "source": [
    "### Optimization\n",
    "Use the Adam optimizer (with default settings other than the learning rate) for training.\n",
    "\n",
    "**[Optional]** Sometimes dropout has been shown to be beneficial in training recurrent models, so feel free to use it or any other form of regularization that seems to improve performance. It might be also worth trying out batch-normalization. [Reference](https://arxiv.org/pdf/1603.09025.pdf).\n",
    "\n",
    "### Models: Your models will have the following structure:\n",
    "1. [(Red Block)] The *input* (current binarised row of pixels) can be fed directly into the recurrent connection without  much further pre-processing.\n",
    "2. [(Blue Block)] The *output* (probabilities over the activation of the pixel) is produced by looking at the last output of the recurrent units, transforming them via an affine transformation.\n",
    "3. [(Green Block)] For the *recurrent* part of the network, please implement and compare the following architectures:\n",
    "    * LSTM with 32 units. **[15 pts]**\n",
    "    \n",
    "    **OR**\n",
    "    \n",
    "    * GRU with 32 units. **[15 pts]**\n",
    "\n",
    "Your network should look like:\n",
    "\\begin{equation}\n",
    "\\textrm{Input} \\Rightarrow \\textrm{RNN cell} \\Rightarrow \\textrm{Relu} \\Rightarrow \\textrm{Fully connected} \\Rightarrow \\textrm{Relu} \\Rightarrow \\textrm{Fully connected} \\Rightarrow \\textrm{Output}\n",
    "\\end{equation}\n",
    "You might find the function `tf.nn.dynamic_rnn` useful.\n",
    "\n",
    "### Hyper-parameters \n",
    "For all cases train the model with these hyper-parameter settings:\n",
    "\n",
    "- *num_epochs*=5, *learning_rate*=0.001, *batch_size*=256, *fully_connected_hidden_units=64*\n",
    "\n",
    "With these hyper-parameters you should give you a good perfomance on both GRUs/LSTMs. It is worth noting that in $5$ epochs the model has yet converged, but in the interest of time (the training should have $\\approx$ 1h). That being said, feel free to try other settings, there are certainly better choices, but please report the results with these exact hyper-parameters and/or train for longer -- the models should still improve (convergence is achieved around 25-30 epochs). \n",
    "\n",
    "### Tasks:\n",
    "\n",
    "1) Implement and train the previously described model (choose either GRU **or** LSTM). Please report the *cross-entropy* on the *test set* and *training set* of the models trained. Use the `plot_summary_table` method below to format the table. Provide the learning curves (both training and testing loss) -- choose appropiate reporting interval here (at least 20 points).\n",
    "\n",
    "2) Using the previously trained model, visualize the 1-step predictions, 10-step predictions, one row prediction (28 steps) and filling out the image (fill out all the pixels using the recurrent model). \n",
    "\n",
    "*   **Generate a small in-painting dataset.** Sample $100$ images from your test set. Mask/Remove the last $300$ pixels (roughly 10 rows and a half).\n",
    "\n",
    "*   **Predict missing parts and compare with GT**. Given the above generated partial sequences as input to your train models, generate the continuation of these masked images (for the next 1, 10, 28, 300 pixels).\n",
    "Report the cross-entropy of your in-paintings for the trained model at beginning of training(0 epochs), after 1 epoch and at the end of training. Discuss the results: contrasting long/short time prediction; compare these with the cross-entropy of the ground truth images. For multiple steps in-paintings, average the loss over $10$ samples. **[10 pts]**\n",
    "\n",
    "*   **Visualize completing the image**. Pick out $3$ examples from your in-painting dataset to visualize  the resulting images -- this can be done at random, but should include *a successful example, failure example and one that displays high variance between samples.* For each example picked, please provide $5$ samples for the last three scenarios (10, 28, 300 pixels) and $1$ for the 1-pixel prediction -- total 16 samples/exampls. The samples should be generated recursively by sampling the generative process provided by the trained recurrent connections. Total number of in-painting to report: 16 samples x 3 examples = 48 **[10 pts]**\n",
    "\n"
   ]
  },
  {
   "cell_type": "markdown",
   "metadata": {
    "colab_type": "text",
    "id": "_xkdbD4mcfLk"
   },
   "source": [
    "## Task 2: Using pixel-to-pixel: In-painting task (25 pts)\n",
    "\n",
    "Using the models trained in the previous section, please in-paint the missing pixels in the following datasets:\n",
    "* [One-pixel missing](https://github.com/dianaborsa/compgi22_dl_cw4/blob/master/one_pixel_inpainting.npy)\n",
    "* [Window of 2x2 pixels missing](https://github.com/dianaborsa/compgi22_dl_cw4/blob/master/2X2_pixels_inpainting.npy)\n",
    "\n",
    "This is similar to Task 1.b, but now you have information not only about the past(previous pixels in the image) but also future (pixels that come after your predictive target)\n",
    "\n",
    "### Results\n",
    "1) Provide the formula used to compute the probability over the missing pixel and respectively for the missing patch **[5+5 pts]**\n",
    "\n",
    "2) Visualize the most probable in-painting, according to your model. How does this compare to the ground truth? (Compare cross-entropy between your most probable sample and the ground truth). Explain the difference. It is enough to include just one example per task/dataset. **[10 pts]**\n"
   ]
  },
  {
   "cell_type": "markdown",
   "metadata": {
    "colab_type": "text",
    "id": "72eL--uyop0z"
   },
   "source": [
    "### In-painting data \n",
    "\n",
    "We provide two datasets (one corresponing to the one-pixel in-painting tasks and the other one with a 2x2 patch missing). The datasets are available on [git](https://github.com/dianaborsa/compgi22_dl_cw4/blob/master/). Links are available in the description and code is provide below to load the dataset and visualize. Both datasets have 1000 sampled images from MNIST(test). Both dataset sets have the same simple structure: cropped images and their ground truth (GT). in this second task, you will consider the copped images and use your pixel-to-pixel model, try to predict the missing pixel/patches.\n"
   ]
  },
  {
   "cell_type": "markdown",
   "metadata": {
    "colab_type": "text",
    "id": "0wg-OYIMm8cW"
   },
   "source": [
    "# Imports and utility functions (do not modify!)"
   ]
  },
  {
   "cell_type": "code",
   "execution_count": null,
   "metadata": {
    "cellView": "code",
    "colab": {
     "autoexec": {
      "startup": false,
      "wait_interval": 0
     }
    },
    "colab_type": "code",
    "id": "rPYnfzQfltxp"
   },
   "outputs": [],
   "source": [
    "#@title Import libraries\n",
    "#@test {\"output\": \"ignore\"}\n",
    "\n",
    "# Import useful libraries.\n",
    "import tensorflow as tf\n",
    "import matplotlib.pyplot as plt\n",
    "import numpy as np\n",
    "from tensorflow.examples.tutorials.mnist import input_data\n",
    "\n",
    "# Binarize the images\n",
    "def binarize(images, threshold=0.1):\n",
    "  return (threshold < images).astype('float32')\n",
    "\n",
    "# Import dataset with one-hot encoding of the class labels.\n",
    "def get_data():\n",
    "  return input_data.read_data_sets(\"MNIST_data/\", one_hot=True)\n",
    "\n",
    "# Placeholders to feed train and test data into the graph.\n",
    "# Since batch dimension is 'None', we can reuse them both for train and eval.\n",
    "def get_placeholders():\n",
    "  x = tf.placeholder(tf.float32, [None, 783])\n",
    "  y = tf.placeholder(tf.float32, [None, 783])\n",
    "  return x, y\n",
    "\n",
    "# Generate summary table of results. This function expects a dict with the\n",
    "# following structure: keys of 'LSTM' (or 'GRU') and the values for each key are a\n",
    "# list of tuples consisting of (test_loss, test_accuracy), and the list is\n",
    "# ordered as the results from 0 epoch (beginning of training), 1 epoch, 5 epochs (or end of training):\n",
    "# {\n",
    "#  'LSTM': [(loss,acc), (loss, acc), (loss, acc)]\n",
    "# }\n",
    "def plot_summary_table(experiment_results):\n",
    "  # Fill Data.\n",
    "  cell_text = []\n",
    "  columns = ['(Beginning - 0 epochs)', '(Mid-training - 1 epoch)', '(End of training - 5 epochs)']\n",
    "  for k, v in experiment_results.items():\n",
    "    rows = ['Test loss', 'Test accuracy']\n",
    "    cell_text=[[],[]]\n",
    "    for (l, _) in v:\n",
    "      cell_text[0].append(str(l))\n",
    "    for (_, a) in v:\n",
    "      cell_text[1].append(str(a))\n",
    "\n",
    "    fig=plt.figure(frameon=False)\n",
    "    ax = plt.gca()\n",
    "    the_table = ax.table(\n",
    "      cellText=cell_text,\n",
    "      rowLabels=rows,\n",
    "      colLabels=columns,\n",
    "      loc='center')\n",
    "    the_table.scale(2, 8)\n",
    "    # Prettify.\n",
    "    ax.patch.set_facecolor('None')\n",
    "    ax.xaxis.set_visible(False)\n",
    "    ax.yaxis.set_visible(False)\n",
    "    ax.text(-0.73, 0.9, k, fontsize=18)\n",
    "    \n",
    "    \n",
    "    \n",
    "def plot_learning_curves(training_loss, testing_loss):\n",
    "  plt.figure()\n",
    "  plt.plot(training_loss)\n",
    "  plt.plot(testing_loss, 'g')\n",
    "  plt.legend(['Training loss', 'Testing loss'])\n",
    "   "
   ]
  },
  {
   "cell_type": "markdown",
   "metadata": {
    "colab_type": "text",
    "id": "xm9jZeiYphO8"
   },
   "source": [
    "# Train Models\n",
    "\n",
    "Generate summary table of results. This function expects a dict with the\n",
    "following structure: keys of 'LSTM' (or 'GRU') and the values for each key are a\n",
    "list of tuples consisting of (test_loss, test_accuracy), and the list is\n",
    "ordered as the results from 0 epoch (beginning of training), 1 epoch, 5 epochs (or end of training) i.e. expected dictionary (final performace only):\n",
    "\n",
    "```python\n",
    "{\n",
    "  'LSTM': [(loss,acc), (loss, acc), (loss, acc)]\n",
    "}\n",
    "```"
   ]
  },
  {
   "cell_type": "code",
   "execution_count": null,
   "metadata": {
    "colab": {
     "autoexec": {
      "startup": false,
      "wait_interval": 0
     }
    },
    "colab_type": "code",
    "id": "c8cgvmXiW4ij"
   },
   "outputs": [],
   "source": [
    "experiment_results = { 'LSTM': [] }\n",
    "RNN_units = 32\n",
    "epochs = 0\n",
    "num_epochs = 5\n",
    "learning_rate = 0.001\n",
    "batch_size = 256\n",
    "\n",
    "num_input = 1 # Inputting one pixel at a time\n",
    "timesteps = 783 #\n",
    "num_classes = 1 # pixel is on or off\n",
    "hidden_units = 64"
   ]
  },
  {
   "cell_type": "code",
   "execution_count": 3,
   "metadata": {
    "cellView": "code",
    "colab": {
     "autoexec": {
      "startup": false,
      "wait_interval": 0
     },
     "base_uri": "https://localhost:8080/",
     "height": 153,
     "output_extras": [
      {
       "item_id": 2
      }
     ]
    },
    "colab_type": "code",
    "executionInfo": {
     "elapsed": 1687,
     "status": "ok",
     "timestamp": 1522582366942,
     "user": {
      "displayName": "Nick Thomson",
      "photoUrl": "https://lh3.googleusercontent.com/a/default-user=s128",
      "userId": "116544489914488299457"
     },
     "user_tz": -60
    },
    "id": "vLHuJ7Ncq7Jm",
    "outputId": "60374411-f069-47c6-8981-a6d05017889e"
   },
   "outputs": [
    {
     "name": "stdout",
     "output_type": "stream",
     "text": [
      "Successfully downloaded train-images-idx3-ubyte.gz 9912422 bytes.\n",
      "Extracting MNIST_data/train-images-idx3-ubyte.gz\n",
      "Successfully downloaded train-labels-idx1-ubyte.gz 28881 bytes.\n",
      "Extracting MNIST_data/train-labels-idx1-ubyte.gz\n",
      "Successfully downloaded t10k-images-idx3-ubyte.gz 1648877 bytes.\n",
      "Extracting MNIST_data/t10k-images-idx3-ubyte.gz\n",
      "Successfully downloaded t10k-labels-idx1-ubyte.gz 4542 bytes.\n",
      "Extracting MNIST_data/t10k-labels-idx1-ubyte.gz\n"
     ]
    }
   ],
   "source": [
    "# Advisable to you GPU for this part\n",
    "with tf.device('/device:GPU:*'):\n",
    "\n",
    "  # Reset graph, recreate placeholders and dataset.\n",
    "  tf.reset_default_graph()\n",
    "  x = tf.placeholder(\"float\", [None, timesteps, num_input], name='x')\n",
    "  y_ = tf.placeholder(\"float\", [None, timesteps], name='y_')\n",
    "  mnist = get_data()\n",
    "\n",
    "  LSTM = tf.nn.rnn_cell.LSTMCell(RNN_units)\n",
    "\n",
    "  outputs, state = tf.nn.dynamic_rnn(LSTM, x, dtype=tf.float32)\n",
    "\n",
    "  final_output = tf.nn.relu(outputs)\n",
    "  \n",
    "  w1 = tf.get_variable(\"w1\", shape=[RNN_units, hidden_units], initializer=tf.contrib.layers.xavier_initializer())\n",
    "  b1 = tf.get_variable(\"b1\", shape=[hidden_units], initializer=tf.zeros_initializer())\n",
    "  w2 = tf.get_variable(\"w2\", shape=[hidden_units, num_classes], initializer=tf.contrib.layers.xavier_initializer())\n",
    "  b2 = tf.get_variable(\"b2\", shape=[num_classes], initializer=tf.zeros_initializer())\n",
    "  \n",
    "  hidden_1 = tf.nn.relu(tf.add(tf.matmul(tf.reshape(final_output, [-1, 32]), w1),b1))\n",
    "  logits = tf.reshape(tf.add(tf.matmul(hidden_1, w2),b2), [-1,783])\n",
    "  prediction = tf.nn.sigmoid(logits)\n",
    "  \n",
    "  loss_per_pixel = tf.nn.sigmoid_cross_entropy_with_logits(logits=logits, labels=y_)\n",
    "  loss = tf.reduce_mean(tf.nn.sigmoid_cross_entropy_with_logits(logits=logits, labels=y_))\n",
    "  optimizer = tf.train.AdamOptimizer(learning_rate=learning_rate)\n",
    "  train = optimizer.minimize(loss)\n",
    "  \n",
    "  correct_pred = tf.equal(tf.round(prediction), y_)\n",
    "  accuracy = tf.reduce_mean(tf.cast(correct_pred, tf.float32))\n",
    "  \n",
    "  tf.add_to_collection(\"prediction\", prediction)\n",
    "  tf.add_to_collection(\"loss_per_pixel\", loss_per_pixel)\n",
    "  \n",
    "  saver = tf.train.Saver()"
   ]
  },
  {
   "cell_type": "code",
   "execution_count": 4,
   "metadata": {
    "cellView": "both",
    "colab": {
     "autoexec": {
      "startup": false,
      "wait_interval": 0
     },
     "base_uri": "https://localhost:8080/",
     "height": 136,
     "output_extras": [
      {
       "item_id": 6
      }
     ]
    },
    "colab_type": "code",
    "executionInfo": {
     "elapsed": 1065124,
     "status": "ok",
     "timestamp": 1522583432179,
     "user": {
      "displayName": "Nick Thomson",
      "photoUrl": "https://lh3.googleusercontent.com/a/default-user=s128",
      "userId": "116544489914488299457"
     },
     "user_tz": -60
    },
    "id": "MDSEh0VujBHe",
    "outputId": "0d59f63b-1287-4870-d9c3-17a777143603"
   },
   "outputs": [
    {
     "name": "stdout",
     "output_type": "stream",
     "text": [
      "Epoch 0, Loss= 0.1739, Training Accuracy= 0.930\n",
      "Epoch 1, Loss= 0.1537, Training Accuracy= 0.936\n",
      "Epoch 2, Loss= 0.1415, Training Accuracy= 0.940\n",
      "Epoch 3, Loss= 0.1345, Training Accuracy= 0.946\n",
      "Epoch 4, Loss= 0.1309, Training Accuracy= 0.948\n",
      "Testing Accuracy: 0.9490352\n",
      "Testing Loss: 0.12717427\n"
     ]
    }
   ],
   "source": [
    "with tf.device('/device:GPU:*'):\n",
    "\n",
    "  # Initialize variables \n",
    "  init = tf.global_variables_initializer()\n",
    "\n",
    " # Train\n",
    "  with tf.Session() as sess:\n",
    "\n",
    "      sess.run(init)\n",
    "      \n",
    "      saver.save(sess, './tmp/my_model_epoch_0')\n",
    "\n",
    "      raw_test_data = mnist.test.images\n",
    "      test_data_reshaped = binarize(raw_test_data.reshape((-1, 784, num_input)))\n",
    "      test_data = test_data_reshaped[:,:-1,:]     \n",
    "      test_label = test_data_reshaped[:,1:,0] \n",
    "      \n",
    "      initial_loss, initial_acc = sess.run([loss, accuracy], feed_dict={x: test_data,\n",
    "                                                                       y_: test_label})\n",
    "      \n",
    "      experiment_results['LSTM'].append((initial_loss, initial_acc))\n",
    "\n",
    "      while mnist.train.epochs_completed < num_epochs:\n",
    "\n",
    "        batch_x, raw_batch_y = mnist.train.next_batch(batch_size)\n",
    "        batch_x = binarize(batch_x.reshape((batch_size, 784, num_input)))\n",
    "        batch_x_reshaped = binarize(batch_x.reshape((batch_size, 784, num_input)))\n",
    "        batch_x = batch_x_reshaped[:,:-1,:] \n",
    "        batch_y = batch_x_reshaped[:,1:,0] \n",
    "\n",
    "        sess.run(train, feed_dict={x: batch_x, y_: batch_y})\n",
    "        \n",
    "        \n",
    "        if mnist.train.epochs_completed == 1 and epochs < mnist.train.epochs_completed:\n",
    "          saver.save(sess, './tmp/my_model_epoch_1')\n",
    "\n",
    "          loss_1, acc_1 = sess.run([loss, accuracy], feed_dict={x: test_data,\n",
    "                                                               y_: test_label})\n",
    " \n",
    "          experiment_results['LSTM'].append((loss_1, acc_1))\n",
    "\n",
    "        if mnist.train.epochs_completed > epochs:\n",
    "          epoch_loss, acc = sess.run([loss, accuracy], feed_dict={x: batch_x,\n",
    "                                                                 y_: batch_y})\n",
    "\n",
    "          print(\"Epoch \" + str(epochs) + \", Loss= \" + \\\n",
    "                \"{:.4f}\".format(epoch_loss) + \", Training Accuracy= \" + \\\n",
    "                \"{:.3f}\".format(acc))\n",
    "          epochs += 1\n",
    "          \n",
    "      final_loss, final_acc = sess.run([loss, accuracy], feed_dict={x: test_data,\n",
    "                                                                   y_: test_label})\n",
    "      \n",
    "      experiment_results['LSTM'].append((final_loss, final_acc))\n",
    "      \n",
    "      print(\"Testing Accuracy:\", final_acc )\n",
    "      print(\"Testing Loss:\", final_loss )\n",
    "      \n",
    "      saver.save(sess, './tmp/my_model_epoch_5')"
   ]
  },
  {
   "cell_type": "markdown",
   "metadata": {
    "colab_type": "text",
    "id": "hr-L9cZl37ek"
   },
   "source": [
    "#Results"
   ]
  },
  {
   "cell_type": "code",
   "execution_count": 5,
   "metadata": {
    "colab": {
     "autoexec": {
      "startup": false,
      "wait_interval": 0
     },
     "base_uri": "https://localhost:8080/",
     "height": 347,
     "output_extras": [
      {
       "item_id": 1
      },
      {
       "item_id": 2
      }
     ]
    },
    "colab_type": "code",
    "executionInfo": {
     "elapsed": 704,
     "status": "ok",
     "timestamp": 1522583432911,
     "user": {
      "displayName": "Nick Thomson",
      "photoUrl": "https://lh3.googleusercontent.com/a/default-user=s128",
      "userId": "116544489914488299457"
     },
     "user_tz": -60
    },
    "id": "CtDksStF35Vb",
    "outputId": "44b97b38-2049-4982-d852-861aa9cbfb85"
   },
   "outputs": [
    {
     "name": "stdout",
     "output_type": "stream",
     "text": [
      "{'LSTM': [(0.69232106, 0.82820714), (0.17816725, 0.929165), (0.12717427, 0.9490352)]}\n"
     ]
    },
    {
     "data": {
      "image/png": "[encoded data removed]",
      "text/plain": [
       "<matplotlib.figure.Figure at 0x7f207da77128>"
      ]
     },
     "metadata": {
      "tags": []
     },
     "output_type": "display_data"
    }
   ],
   "source": [
    "print(experiment_results)\n",
    "\n",
    "plot_summary_table(experiment_results)"
   ]
  },
  {
   "cell_type": "markdown",
   "metadata": {
    "colab_type": "text",
    "id": "BKNhs1sHoVZh"
   },
   "source": [
    "# Pixel prediction"
   ]
  },
  {
   "cell_type": "markdown",
   "metadata": {
    "colab_type": "text",
    "id": "KPI6CZ35sFzt"
   },
   "source": [
    "### Generate a small in-painting dataset.\n",
    "Sample $100$ images from your test set. Mask/Remove the last $300$ pixels (roughly 10 rows and a half)."
   ]
  },
  {
   "cell_type": "code",
   "execution_count": null,
   "metadata": {
    "colab": {
     "autoexec": {
      "startup": false,
      "wait_interval": 0
     }
    },
    "colab_type": "code",
    "id": "hG9FirIQxTwk"
   },
   "outputs": [],
   "source": [
    "#Sample 100 images + mask \n",
    "import random, copy\n",
    "\n",
    "test_data_reshaped_original = binarize(mnist.test.images.reshape((-1, 784, num_input)))\n",
    "test_data_reshaped = copy.copy(test_data_reshaped_original)\n",
    "\n",
    "unmasked_test_data = test_data_reshaped_original[:,:-1,:]\n",
    "\n",
    "test_data = test_data_reshaped[:,:-1,:] # Remove last pixel as we don't want to use as an input as we don't have the next pixel    \n",
    "test_label = test_data_reshaped[:,1:,0] # Take pixels after first as true label for next pixel prediction\n",
    "\n",
    "indices = random.sample(range(len(test_label)), 100)\n",
    "\n",
    "# Sample 100 images from test set \n",
    "sampled_images = [unmasked_test_data[i] for i in sorted(indices)]\n",
    "sampled_images_unmasked = [test_data[i] for i in sorted(indices)]\n",
    "sampled_label = [test_label[i] for i in sorted(indices)]\n",
    "sampled_label_unmasked = [test_data_reshaped_original[:,1:,0][i] for i in sorted(indices)]\n",
    "\n",
    "# Generate 10 samples \n",
    "sampled_images = np.repeat(sampled_images, 10, axis = 0)\n",
    "sampled_label = np.repeat(sampled_label, 10, axis = 0)\n",
    "\n",
    "# Mask images \n",
    "\n",
    "for i in range(len(sampled_images)):\n",
    "  sampled_images[i][483:, 0] = 0.0\n",
    "\n",
    "for i in range(len(test_data_reshaped)):\n",
    "  test_data_reshaped[i][483:, 0] = 0.0"
   ]
  },
  {
   "cell_type": "code",
   "execution_count": null,
   "metadata": {
    "colab": {
     "autoexec": {
      "startup": false,
      "wait_interval": 0
     }
    },
    "colab_type": "code",
    "id": "3_IRCTlvmrRW"
   },
   "outputs": [],
   "source": [
    "# Full images for visualisation purposes\n",
    "sampled_full_image = [test_data_reshaped_original[i] for i in sorted(indices)]\n",
    "\n",
    "sampled_masked_image = [test_data_reshaped[i] for i in sorted(indices)]\n"
   ]
  },
  {
   "cell_type": "markdown",
   "metadata": {
    "colab_type": "text",
    "id": "8yO15xCYsONg"
   },
   "source": [
    "### Predict missing parts and compare with the ground truth. \n",
    "Given the above generated partial sequences as input to your train models, generate the continuation of these masked images (for the next 1, 10, 28, 300 pixels)."
   ]
  },
  {
   "cell_type": "code",
   "execution_count": null,
   "metadata": {
    "colab": {
     "autoexec": {
      "startup": false,
      "wait_interval": 0
     }
    },
    "colab_type": "code",
    "id": "aAKA8idzC30B"
   },
   "outputs": [],
   "source": [
    "def ground_truth_cross_entropy(images, labels, model_num_epochs):\n",
    "  meta_model = './tmp/my_model_epoch_' + str(model_num_epochs) + '.meta'\n",
    "  model = './tmp/my_model_epoch_' + str(model_num_epochs)\n",
    "  \n",
    "  with tf.device('/device:GPU:*'):\n",
    "    tf.reset_default_graph()\n",
    "    with tf.Session() as sess:\n",
    "      saver = tf.train.import_meta_graph(meta_model)\n",
    "      saver.restore(sess,model)\n",
    "      graph = tf.get_default_graph()\n",
    "      \n",
    "      l_p = tf.get_collection(\"loss_per_pixel\")[0]\n",
    "      loss = sess.run([l_p], feed_dict={'x:0': images, 'y_:0': labels})\n",
    "      loss =  np.reshape(np.array(loss), (100, 783))\n",
    "      loss_mean = np.mean(loss[:,483:], axis = 1) \n",
    "      cross_entropy =  np.mean(loss_mean)    \n",
    "           \n",
    "    return cross_entropy\n"
   ]
  },
  {
   "cell_type": "code",
   "execution_count": null,
   "metadata": {
    "colab": {
     "autoexec": {
      "startup": false,
      "wait_interval": 0
     }
    },
    "colab_type": "code",
    "id": "g-VNJrXdnXuL"
   },
   "outputs": [],
   "source": [
    "def update_image(images, predictions, nth_predicted_pixel):\n",
    "  full_image = np.zeros((np.shape(images)[0],(np.shape(images)[1] + 1), np.shape(images)[2]))\n",
    "  full_image[:,:-1,:] = images\n",
    "  for i, image in enumerate(images):\n",
    "    predicted_probability = predictions[i][482 + (nth_predicted_pixel - 1)]\n",
    "    pixel_value = np.random.choice(a = [0, 1], p = [1 - predicted_probability, predicted_probability])\n",
    "    full_image[i][482 + nth_predicted_pixel,0] = pixel_value\n",
    "  return full_image\n",
    "\n",
    "def visualise(y_axis,x_axis,position, image):\n",
    "  pic = np.reshape(image,(28,28))\n",
    "  plt.subplot(y_axis,x_axis,position)\n",
    "  plt.imshow(pic, interpolation='None',vmin=-1, vmax=1)\n",
    "  "
   ]
  },
  {
   "cell_type": "code",
   "execution_count": null,
   "metadata": {
    "colab": {
     "autoexec": {
      "startup": false,
      "wait_interval": 0
     }
    },
    "colab_type": "code",
    "id": "3TJjY0cQ5UeU"
   },
   "outputs": [],
   "source": [
    "def fill_in_pixels(images, labels, model_num_epochs, pixels):\n",
    "  meta_model = './tmp/my_model_epoch_' + str(model_num_epochs) + '.meta' \n",
    "  model = './tmp/my_model_epoch_' + str(model_num_epochs)\n",
    "  updated_image = images                \n",
    "\n",
    "  with tf.device('/device:GPU:*'):\n",
    "    tf.reset_default_graph()\n",
    "    with tf.Session() as sess:\n",
    "      saver = tf.train.import_meta_graph(meta_model)\n",
    "      saver.restore(sess,model)\n",
    "      graph = tf.get_default_graph()\n",
    "      \n",
    "      pred = tf.get_collection(\"prediction\")[0]\n",
    "      l_p= tf.get_collection(\"loss_per_pixel\")[0]\n",
    "\n",
    "      for i in range(1, pixels+1):        \n",
    "        predictions, loss_per_pixels = sess.run([pred, l_p], feed_dict={'x:0': updated_image, 'y_:0': labels})\n",
    "\n",
    "        updated_full_image = update_image(updated_image, predictions, i)\n",
    "        updated_image = updated_full_image[:,:-1,:]\n",
    "        \n",
    "\n",
    "      loss_all_pixels = np.reshape(loss_per_pixels, (100,10,783))\n",
    "      \n",
    "      average_loss_all_pixel = np.mean(loss_all_pixels[:,:,483:483+pixels], axis = 1)\n",
    "          \n",
    "      normalised_loss_all_pixel = np.mean(average_loss_all_pixel, axis = 1) \n",
    "     \n",
    "      cross_entropy = [np.mean(normalised_loss_all_pixel)]\n",
    "                  \n",
    "      final_pred_full_image = np.reshape(updated_full_image, (100,10,28,28))\n",
    "      \n",
    "      predicted_images = [final_pred_full_image]\n",
    "      \n",
    "    return predicted_images, cross_entropy"
   ]
  },
  {
   "cell_type": "code",
   "execution_count": 11,
   "metadata": {
    "colab": {
     "autoexec": {
      "startup": false,
      "wait_interval": 0
     },
     "base_uri": "https://localhost:8080/",
     "height": 238,
     "output_extras": [
      {
       "item_id": 13
      }
     ]
    },
    "colab_type": "code",
    "executionInfo": {
     "elapsed": 601644,
     "status": "ok",
     "timestamp": 1522584037569,
     "user": {
      "displayName": "Nick Thomson",
      "photoUrl": "https://lh3.googleusercontent.com/a/default-user=s128",
      "userId": "116544489914488299457"
     },
     "user_tz": -60
    },
    "id": "ytkpK43UZ7cH",
    "outputId": "ca7cad89-b7f9-4131-9d5a-70d56c4051ba"
   },
   "outputs": [
    {
     "name": "stdout",
     "output_type": "stream",
     "text": [
      "INFO:tensorflow:Restoring parameters from ./tmp/my_model_epoch_5\n",
      "INFO:tensorflow:Restoring parameters from ./tmp/my_model_epoch_5\n",
      "INFO:tensorflow:Restoring parameters from ./tmp/my_model_epoch_5\n",
      "INFO:tensorflow:Restoring parameters from ./tmp/my_model_epoch_5\n",
      "INFO:tensorflow:Restoring parameters from ./tmp/my_model_epoch_5\n",
      "INFO:tensorflow:Restoring parameters from ./tmp/my_model_epoch_1\n",
      "INFO:tensorflow:Restoring parameters from ./tmp/my_model_epoch_1\n",
      "INFO:tensorflow:Restoring parameters from ./tmp/my_model_epoch_1\n",
      "INFO:tensorflow:Restoring parameters from ./tmp/my_model_epoch_1\n",
      "INFO:tensorflow:Restoring parameters from ./tmp/my_model_epoch_0\n",
      "INFO:tensorflow:Restoring parameters from ./tmp/my_model_epoch_0\n",
      "INFO:tensorflow:Restoring parameters from ./tmp/my_model_epoch_0\n",
      "INFO:tensorflow:Restoring parameters from ./tmp/my_model_epoch_0\n"
     ]
    }
   ],
   "source": [
    "five_epoch_gt = ground_truth_cross_entropy (sampled_images_unmasked, sampled_label_unmasked, 5)\n",
    "\n",
    "five_epoch_1, five_epoch_xe_1 = fill_in_pixels(sampled_images, sampled_label, 5,1)\n",
    "five_epoch_10, five_epoch_xe_10 = fill_in_pixels(sampled_images, sampled_label, 5,10)\n",
    "five_epoch_28, five_epoch_xe_28 = fill_in_pixels(sampled_images, sampled_label, 5,28)\n",
    "five_epoch_300, five_epoch_xe_300 = fill_in_pixels(sampled_images, sampled_label, 5,300)\n",
    "\n",
    "five_epoch_xe = [five_epoch_xe_1,five_epoch_xe_10,five_epoch_xe_28,five_epoch_xe_300]\n",
    "five_epoch_predicted_images = [five_epoch_300, five_epoch_1, five_epoch_10, five_epoch_28]\n",
    "\n",
    "one_epoch_1, one_epoch_xe_1 = fill_in_pixels(sampled_images, sampled_label, 1,1)\n",
    "one_epoch_10, one_epoch_xe_10 = fill_in_pixels(sampled_images, sampled_label, 1,10)\n",
    "one_epoch_28, one_epoch_xe_28 = fill_in_pixels(sampled_images, sampled_label, 1,28)\n",
    "one_epoch_300, one_epoch_xe_300 = fill_in_pixels(sampled_images, sampled_label, 1,300)\n",
    "\n",
    "one_epoch_xe = [one_epoch_xe_1,one_epoch_xe_10,one_epoch_xe_28,one_epoch_xe_300]\n",
    "one_epoch_predicted_images = [one_epoch_300, one_epoch_1, one_epoch_10, one_epoch_28]\n",
    "\n",
    "zero_epoch_1, zero_epoch_xe_1 = fill_in_pixels(sampled_images, sampled_label, 0,1)\n",
    "zero_epoch_10, zero_epoch_xe_10 = fill_in_pixels(sampled_images, sampled_label, 0,10)\n",
    "zero_epoch_28, zero_epoch_xe_28 = fill_in_pixels(sampled_images, sampled_label, 0,28)\n",
    "zero_epoch_300, zero_epoch_xe_300 = fill_in_pixels(sampled_images, sampled_label, 0,300)\n",
    "\n",
    "zero_epoch_xe = [zero_epoch_xe_1,zero_epoch_xe_10,zero_epoch_xe_28,zero_epoch_xe_300]\n",
    "zero_epoch_predicted_images = [zero_epoch_300, zero_epoch_1, zero_epoch_10, zero_epoch_28]"
   ]
  },
  {
   "cell_type": "code",
   "execution_count": 12,
   "metadata": {
    "colab": {
     "autoexec": {
      "startup": false,
      "wait_interval": 0
     },
     "base_uri": "https://localhost:8080/",
     "height": 85,
     "output_extras": [
      {
       "item_id": 1
      }
     ]
    },
    "colab_type": "code",
    "executionInfo": {
     "elapsed": 487,
     "status": "ok",
     "timestamp": 1522584038082,
     "user": {
      "displayName": "Nick Thomson",
      "photoUrl": "https://lh3.googleusercontent.com/a/default-user=s128",
      "userId": "116544489914488299457"
     },
     "user_tz": -60
    },
    "id": "XkvNN276lNIt",
    "outputId": "ae930b12-279f-4e89-bf45-034b913c4d6f"
   },
   "outputs": [
    {
     "name": "stdout",
     "output_type": "stream",
     "text": [
      "0.6904275\n",
      "[[0.56384814], [0.604053], [0.3809375], [0.77542514]]\n",
      "[[0.6560116], [0.8165776], [0.5411918], [0.6739235]]\n",
      "[[0.6929954], [0.6932528], [0.69424796], [0.6947293]]\n"
     ]
    }
   ],
   "source": [
    "print(five_epoch_gt)\n",
    "print(five_epoch_xe)\n",
    "print(one_epoch_xe)\n",
    "print(zero_epoch_xe) "
   ]
  },
  {
   "cell_type": "markdown",
   "metadata": {
    "colab_type": "text",
    "id": "R5bDEgpznzJy"
   },
   "source": [
    "**Predict missing parts and compare with GT**. Given the above generated partial sequences as input to your train models, generate the continuation of these masked images (for the next 1, 10, 28, 300 pixels).\n",
    "Report the cross-entropy of your in-paintings for the trained model at beginning of training(0 epochs), after 1 epoch and at the end of training. Discuss the results: contrasting long/short time prediction; compare these with the cross-entropy of the ground truth images. For multiple steps in-paintings, average the loss over $10$ samples. **[10 pts]**\n",
    "\n",
    "\n",
    "**Answer**\n",
    "\n",
    "The cross entropy of the generated images was lower than the grund truth on average. The lower epoch models showed very little variance in their losses, this is could be due to the model learning the long/short term predictions better as the epochs increases, the mean of these losses is very close to $-log(\\frac{1}{2})$, due to the randomness of the initial predictions. As the epochs increase the variance of the losses increases while the mean decreases. The five epoch predictions have very low loss for the 1-28 pixel predictions, while higher loss for the 300 pixel. This could be due to the low accuracy of long term predictions. The 1 epoch losses are somewhat in the middle, with similar mean and higher variance than the 0 epoch model. The 300 pixel model has very similar loss to the 0 epoch, this could be because long term predictions are unable to accurately predict the pixels or effect the probability distribution of the fill-in. This means that the model may revert to the random loss and thus converge to loss of $-log(\\frac{1}{2})$.\n"
   ]
  },
  {
   "cell_type": "code",
   "execution_count": 90,
   "metadata": {
    "colab": {
     "autoexec": {
      "startup": false,
      "wait_interval": 0
     },
     "base_uri": "https://localhost:8080/",
     "height": 127,
     "output_extras": [
      {
       "item_id": 1
      }
     ]
    },
    "colab_type": "code",
    "executionInfo": {
     "elapsed": 690,
     "status": "ok",
     "timestamp": 1522590249131,
     "user": {
      "displayName": "Nick Thomson",
      "photoUrl": "https://lh3.googleusercontent.com/a/default-user=s128",
      "userId": "116544489914488299457"
     },
     "user_tz": -60
    },
    "id": "eKABwg64kXYT",
    "outputId": "2a3beb58-b1ff-4444-b662-ccb53a53eb59"
   },
   "outputs": [
    {
     "data": {
      "image/png": "[encoded data removed]",
      "text/plain": [
       "<matplotlib.figure.Figure at 0x7f2004bf9550>"
      ]
     },
     "metadata": {
      "tags": []
     },
     "output_type": "display_data"
    }
   ],
   "source": [
    "image_plot = 80\n",
    "visualise(1,5,1,sampled_masked_image[image_plot])\n",
    "visualise(1,5,2,zero_epoch_predicted_images[0][0][image_plot][4])\n",
    "visualise(1,5,3,one_epoch_predicted_images[0][0][image_plot][4])\n",
    "visualise(1,5,4,five_epoch_predicted_images[0][0][image_plot][4])\n",
    "visualise(1,5,5,sampled_full_image[image_plot])\n"
   ]
  },
  {
   "cell_type": "markdown",
   "metadata": {
    "colab_type": "text",
    "id": "FC06V0nJsbz8"
   },
   "source": [
    "### Visualize completing the image. \n",
    "Pick out $3$ examples from your in-painting dataset to visualize  the resulting images -- this can be done at random, but should include \\textit{a successful example, failure example and one that displays high variance between samples.}"
   ]
  },
  {
   "cell_type": "markdown",
   "metadata": {
    "colab_type": "text",
    "id": "-BU2O-oDdx3-"
   },
   "source": [
    "### Successful Example\n",
    "\n",
    "These examples are mostly successful with a little bit of noise in the initial predicted pixels."
   ]
  },
  {
   "cell_type": "code",
   "execution_count": 153,
   "metadata": {
    "colab": {
     "autoexec": {
      "startup": false,
      "wait_interval": 0
     },
     "base_uri": "https://localhost:8080/",
     "height": 350,
     "output_extras": [
      {
       "item_id": 1
      }
     ]
    },
    "colab_type": "code",
    "executionInfo": {
     "elapsed": 1821,
     "status": "ok",
     "timestamp": 1522593376166,
     "user": {
      "displayName": "Nick Thomson",
      "photoUrl": "https://lh3.googleusercontent.com/a/default-user=s128",
      "userId": "116544489914488299457"
     },
     "user_tz": -60
    },
    "id": "ZhHr1ZeKLxLv",
    "outputId": "2c709f5d-b4f8-479d-ac15-6f54a1e9953c"
   },
   "outputs": [
    {
     "data": {
      "image/png": "[encoded data removed]",
      "text/plain": [
       "<matplotlib.figure.Figure at 0x7f2036996ac8>"
      ]
     },
     "metadata": {
      "tags": []
     },
     "output_type": "display_data"
    }
   ],
   "source": [
    "\n",
    "\n",
    "visualise(4,5,1,sampled_full_image[80])\n",
    "visualise(4,5,16,five_epoch_predicted_images[0][0][80][8])\n",
    "visualise(4,5,6,five_epoch_predicted_images[2][0][80][8])\n",
    "visualise(4,5,11,five_epoch_predicted_images[3][0][80][8])\n",
    "\n",
    "visualise(4,5,17,five_epoch_predicted_images[0][0][80][2])\n",
    "visualise(4,5,7,five_epoch_predicted_images[2][0][80][2])\n",
    "visualise(4,5,12,five_epoch_predicted_images[3][0][80][2])\n",
    "\n",
    "visualise(4,5,18,five_epoch_predicted_images[0][0][80][4])\n",
    "visualise(4,5,8,five_epoch_predicted_images[2][0][80][4])\n",
    "visualise(4,5,13,five_epoch_predicted_images[3][0][80][4])\n",
    "\n",
    "visualise(4,5,19,five_epoch_predicted_images[0][0][80][3])\n",
    "visualise(4,5,9,five_epoch_predicted_images[2][0][80][3])\n",
    "visualise(4,5,14,five_epoch_predicted_images[3][0][80][3])\n",
    "\n",
    "visualise(4,5,20,five_epoch_predicted_images[0][0][80][6])\n",
    "visualise(4,5,10,five_epoch_predicted_images[2][0][80][6])\n",
    "visualise(4,5,15,five_epoch_predicted_images[3][0][80][6])\n",
    "\n"
   ]
  },
  {
   "cell_type": "markdown",
   "metadata": {
    "colab_type": "text",
    "id": "YD3LrAlPpScF"
   },
   "source": [
    "### Unsuccessful Example\n",
    "\n",
    "This example shows a poor attempt at predicting the number 4, this is because the pixels used for learning are the top half of the 4 which is very different from the bottom half. Therefore, as the model learns the composition of the top half, it is unable to use this to predict the bottom half."
   ]
  },
  {
   "cell_type": "code",
   "execution_count": 162,
   "metadata": {
    "colab": {
     "autoexec": {
      "startup": false,
      "wait_interval": 0
     },
     "base_uri": "https://localhost:8080/",
     "height": 350,
     "output_extras": [
      {
       "item_id": 1
      }
     ]
    },
    "colab_type": "code",
    "executionInfo": {
     "elapsed": 2242,
     "status": "ok",
     "timestamp": 1522593503647,
     "user": {
      "displayName": "Nick Thomson",
      "photoUrl": "https://lh3.googleusercontent.com/a/default-user=s128",
      "userId": "116544489914488299457"
     },
     "user_tz": -60
    },
    "id": "4yf7jlPWsbZ8",
    "outputId": "17a57582-1f37-4396-f8e6-0bd0bab7c022"
   },
   "outputs": [
    {
     "data": {
      "image/png": "[encoded data removed]",
      "text/plain": [
       "<matplotlib.figure.Figure at 0x7f2006c22b38>"
      ]
     },
     "metadata": {
      "tags": []
     },
     "output_type": "display_data"
    }
   ],
   "source": [
    "\n",
    "\n",
    "visualise(4,5,1,sampled_full_image[30])\n",
    "visualise(4,5,16,five_epoch_predicted_images[0][0][30][8])\n",
    "visualise(4,5,6,five_epoch_predicted_images[2][0][30][8])\n",
    "visualise(4,5,11,five_epoch_predicted_images[3][0][30][8])\n",
    "\n",
    "visualise(4,5,17,five_epoch_predicted_images[0][0][30][2])\n",
    "visualise(4,5,7,five_epoch_predicted_images[2][0][30][2])\n",
    "visualise(4,5,12,five_epoch_predicted_images[3][0][30][2])\n",
    "\n",
    "visualise(4,5,18,five_epoch_predicted_images[0][0][30][4])\n",
    "visualise(4,5,8,five_epoch_predicted_images[2][0][30][4])\n",
    "visualise(4,5,13,five_epoch_predicted_images[3][0][30][4])\n",
    "\n",
    "visualise(4,5,19,five_epoch_predicted_images[0][0][30][3])\n",
    "visualise(4,5,9,five_epoch_predicted_images[2][0][30][3])\n",
    "visualise(4,5,14,five_epoch_predicted_images[3][0][30][3])\n",
    "\n",
    "visualise(4,5,20,five_epoch_predicted_images[0][0][30][6])\n",
    "visualise(4,5,10,five_epoch_predicted_images[2][0][30][6])\n",
    "visualise(4,5,15,five_epoch_predicted_images[3][0][30][6])\n",
    "\n"
   ]
  },
  {
   "cell_type": "markdown",
   "metadata": {
    "colab_type": "text",
    "id": "-mKz7_1Fnc1n"
   },
   "source": [
    "### High Variance Example ### \n",
    "This example is able to show the number 6 and predict the pixels very well in the first two cases. However, the last three cases are very noisy and not useful.\n"
   ]
  },
  {
   "cell_type": "code",
   "execution_count": 114,
   "metadata": {
    "colab": {
     "autoexec": {
      "startup": false,
      "wait_interval": 0
     },
     "base_uri": "https://localhost:8080/",
     "height": 350,
     "output_extras": [
      {
       "item_id": 1
      }
     ]
    },
    "colab_type": "code",
    "executionInfo": {
     "elapsed": 1634,
     "status": "ok",
     "timestamp": 1522593121386,
     "user": {
      "displayName": "Nick Thomson",
      "photoUrl": "https://lh3.googleusercontent.com/a/default-user=s128",
      "userId": "116544489914488299457"
     },
     "user_tz": -60
    },
    "id": "c_L576xZi6HJ",
    "outputId": "46f224ea-70d2-45a2-a314-0333ed0e7167"
   },
   "outputs": [
    {
     "data": {
      "image/png": "[encoded data removed]",
      "text/plain": [
       "<matplotlib.figure.Figure at 0x7f2005a20cf8>"
      ]
     },
     "metadata": {
      "tags": []
     },
     "output_type": "display_data"
    }
   ],
   "source": [
    "\n",
    "visualise(4,5,1,sampled_full_image[2])\n",
    "visualise(4,5,16,five_epoch_predicted_images[0][0][2][2])\n",
    "visualise(4,5,6,five_epoch_predicted_images[2][0][2][2])\n",
    "visualise(4,5,11,five_epoch_predicted_images[3][0][2][2])\n",
    "\n",
    "visualise(4,5,17,five_epoch_predicted_images[0][0][2][3])\n",
    "visualise(4,5,7,five_epoch_predicted_images[2][0][2][3])\n",
    "visualise(4,5,12,five_epoch_predicted_images[3][0][2][3])\n",
    "\n",
    "visualise(4,5,18,five_epoch_predicted_images[0][0][2][4])\n",
    "visualise(4,5,8,five_epoch_predicted_images[2][0][2][4])\n",
    "visualise(4,5,13,five_epoch_predicted_images[3][0][2][4])\n",
    "\n",
    "visualise(4,5,19,five_epoch_predicted_images[0][0][2][5])\n",
    "visualise(4,5,9,five_epoch_predicted_images[2][0][2][5])\n",
    "visualise(4,5,14,five_epoch_predicted_images[3][0][2][5])\n",
    "\n",
    "visualise(4,5,20,five_epoch_predicted_images[0][0][2][6])\n",
    "visualise(4,5,10,five_epoch_predicted_images[2][0][2][6])\n",
    "visualise(4,5,15,five_epoch_predicted_images[3][0][2][6])\n",
    "\n"
   ]
  },
  {
   "cell_type": "markdown",
   "metadata": {
    "colab_type": "text",
    "id": "kuHRuG8nr1Ne"
   },
   "source": [
    "# In-painting Task"
   ]
  },
  {
   "cell_type": "markdown",
   "metadata": {
    "colab_type": "text",
    "id": "ZDPntgyZjPWO"
   },
   "source": [
    "### In-painting data \n",
    "\n",
    "We provide two datasets (one corresponing to the one-pixel in-painting tasks and the other one with a 2x2 patch missing). The datasets are available on [git](https://github.com/dianaborsa/compgi22_dl_cw4/blob/master/). Links are available in the description and code is provide below to load the dataset and visualize. Both datasets have 1000 sampled images from MNIST(test). Both dataset sets have the same simple structure: cropped images and their ground truth (GT). in this second task, you will consider the copped images and use your pixel-to-pixel model, try to predict the missing pixel/patches.\n"
   ]
  },
  {
   "cell_type": "code",
   "execution_count": 22,
   "metadata": {
    "colab": {
     "autoexec": {
      "startup": false,
      "wait_interval": 0
     },
     "base_uri": "https://localhost:8080/",
     "height": 102,
     "output_extras": [
      {
       "item_id": 5
      }
     ]
    },
    "colab_type": "code",
    "executionInfo": {
     "elapsed": 2390,
     "status": "ok",
     "timestamp": 1522584142813,
     "user": {
      "displayName": "Nick Thomson",
      "photoUrl": "https://lh3.googleusercontent.com/a/default-user=s128",
      "userId": "116544489914488299457"
     },
     "user_tz": -60
    },
    "id": "ur-UmPh9ce4N",
    "outputId": "bd1500d9-c94e-4fd0-de58-6dbfe0bf9b47"
   },
   "outputs": [
    {
     "name": "stdout",
     "output_type": "stream",
     "text": [
      "Cloning into 'compgi22_dl_cw4'...\n",
      "remote: Counting objects: 16, done.\u001b[K\n",
      "remote: Compressing objects: 100% (14/14), done.\u001b[K\n",
      "remote: Total 16 (delta 6), reused 3 (delta 0), pack-reused 0\u001b[K\n",
      "Unpacking objects: 100% (16/16), done.\n"
     ]
    }
   ],
   "source": [
    "# Downloading the inpainting datasets\n",
    "!git clone https://github.com/dianaborsa/compgi22_dl_cw4.git"
   ]
  },
  {
   "cell_type": "code",
   "execution_count": null,
   "metadata": {
    "colab": {
     "autoexec": {
      "startup": false,
      "wait_interval": 0
     }
    },
    "colab_type": "code",
    "id": "XD0JMYbqb9t_"
   },
   "outputs": [],
   "source": [
    "# Load the dataset (2X2)\n",
    "dataset = np.load('compgi22_dl_cw4/2X2_pixels_inpainting.npy')"
   ]
  },
  {
   "cell_type": "code",
   "execution_count": null,
   "metadata": {
    "colab": {
     "autoexec": {
      "startup": false,
      "wait_interval": 0
     }
    },
    "colab_type": "code",
    "id": "Nfq_5Lkh5o7T"
   },
   "outputs": [],
   "source": [
    "# Load the dataset (1X1)\n",
    "one_pixel_dataset = np.load('compgi22_dl_cw4/one_pixel_inpainting.npy') "
   ]
  },
  {
   "cell_type": "code",
   "execution_count": 25,
   "metadata": {
    "colab": {
     "autoexec": {
      "startup": false,
      "wait_interval": 0
     },
     "base_uri": "https://localhost:8080/",
     "height": 832,
     "output_extras": [
      {
       "item_id": 1
      },
      {
       "item_id": 2
      },
      {
       "item_id": 3
      },
      {
       "item_id": 4
      }
     ]
    },
    "colab_type": "code",
    "executionInfo": {
     "elapsed": 1284,
     "status": "ok",
     "timestamp": 1522584147651,
     "user": {
      "displayName": "Nick Thomson",
      "photoUrl": "https://lh3.googleusercontent.com/a/default-user=s128",
      "userId": "116544489914488299457"
     },
     "user_tz": -60
    },
    "id": "ftjlfCA-cY2X",
    "outputId": "6755f20e-f3e6-4851-c2a8-dc16893da58f"
   },
   "outputs": [
    {
     "name": "stdout",
     "output_type": "stream",
     "text": [
      "Loaded dataset has 1000 samples: cropped + GT\n",
      "747\n",
      "840\n",
      "796\n"
     ]
    },
    {
     "data": {
      "image/png": "[encoded data removed]",
      "text/plain": [
       "<matplotlib.figure.Figure at 0x7f2005b324e0>"
      ]
     },
     "metadata": {
      "tags": []
     },
     "output_type": "display_data"
    },
    {
     "data": {
      "image/png": "[encoded data removed]",
      "text/plain": [
       "<matplotlib.figure.Figure at 0x7f2006650128>"
      ]
     },
     "metadata": {
      "tags": []
     },
     "output_type": "display_data"
    },
    {
     "data": {
      "image/png": "[encoded data removed]",
      "text/plain": [
       "<matplotlib.figure.Figure at 0x7f200647de80>"
      ]
     },
     "metadata": {
      "tags": []
     },
     "output_type": "display_data"
    }
   ],
   "source": [
    "# checking loading\n",
    "images    = dataset[0]\n",
    "gt_images = dataset[1] \n",
    "\n",
    "nSamples, ndim = gt_images.shape\n",
    "print('Loaded dataset has {} samples: cropped + GT'.format(nSamples))\n",
    "\n",
    "# randomly visualize a few samples\n",
    "for SampleID in np.random.randint(nSamples,size=3):\n",
    "  print(SampleID)\n",
    "  plt.figure()\n",
    "  plt.subplot(1,2,1)\n",
    "  plt.imshow(np.reshape(gt_images[SampleID],(28,28)), interpolation='None',vmin=-1, vmax=1)\n",
    "  plt.title(\"GT image\")\n",
    "  plt.grid(False)\n",
    "  plt.axis('off')\n",
    "  plt.subplot(1,2,2)\n",
    "  plt.imshow(np.reshape(images[SampleID],(28,28)), interpolation='None',vmin=-1, vmax=1)\n",
    "  plt.title(\"Cropped image\")\n",
    "  plt.grid(False)\n",
    "  plt.axis('off')"
   ]
  },
  {
   "cell_type": "code",
   "execution_count": null,
   "metadata": {
    "colab": {
     "autoexec": {
      "startup": false,
      "wait_interval": 0
     }
    },
    "colab_type": "code",
    "id": "fo0I4bl94Srg"
   },
   "outputs": [],
   "source": [
    "def in_painting_update_image(images, predictions, nth_predicted_pixel):\n",
    "  \n",
    "  full_image = np.zeros((np.shape(images)[0],(np.shape(images)[1] + 1), np.shape(images)[2]))\n",
    "  full_image[:,:-1,:] = images\n",
    "  \n",
    "  for i in range(len(images)):\n",
    "    predicted_probability = predictions[i][(nth_predicted_pixel - 1)]\n",
    "    pixel_value = np.round(predicted_probability) # select most probable pixel\n",
    "    \n",
    "    # Only update if the pixel is from the missing patch\n",
    "    if full_image[i][nth_predicted_pixel,0] == -1.0:\n",
    "\n",
    "      full_image[i][nth_predicted_pixel,0] = pixel_value      \n",
    "      \n",
    "  return full_image\n",
    "\n",
    "def ground_truth_cross_entropy(images, labels, model_num_epochs):\n",
    "  meta_model = './tmp/my_model_epoch_' + str(model_num_epochs) + '.meta'\n",
    "  model = './tmp/my_model_epoch_' + str(model_num_epochs)\n",
    "  \n",
    "  with tf.device('/device:GPU:*'):\n",
    "    tf.reset_default_graph()\n",
    "    with tf.Session() as sess:\n",
    "      saver = tf.train.import_meta_graph(meta_model)\n",
    "      saver.restore(sess,model)\n",
    "      graph = tf.get_default_graph()\n",
    "      \n",
    "      l_p = tf.get_collection(\"loss_per_pixel\")[0]\n",
    "      loss = sess.run([l_p], feed_dict={'x:0': images, 'y_:0': labels})\n",
    "      loss =  np.reshape(np.array(loss), (1000, 783))\n",
    "      loss_mean = np.mean(loss[:,483:], axis = 1) \n",
    "      cross_entropy =  np.mean(loss_mean)    \n",
    "           \n",
    "    return cross_entropy"
   ]
  },
  {
   "cell_type": "markdown",
   "metadata": {
    "colab_type": "text",
    "id": "G9RAXOberfI9"
   },
   "source": [
    "### One-pixel prediction "
   ]
  },
  {
   "cell_type": "code",
   "execution_count": 27,
   "metadata": {
    "colab": {
     "autoexec": {
      "startup": false,
      "wait_interval": 0
     },
     "base_uri": "https://localhost:8080/",
     "height": 153,
     "output_extras": [
      {
       "item_id": 8
      }
     ]
    },
    "colab_type": "code",
    "executionInfo": {
     "elapsed": 111383,
     "status": "ok",
     "timestamp": 1522584263218,
     "user": {
      "displayName": "Nick Thomson",
      "photoUrl": "https://lh3.googleusercontent.com/a/default-user=s128",
      "userId": "116544489914488299457"
     },
     "user_tz": -60
    },
    "id": "jIML45bj6HcQ",
    "outputId": "b661ed8c-3f97-4436-a1cc-fd4a7ab192c3"
   },
   "outputs": [
    {
     "name": "stdout",
     "output_type": "stream",
     "text": [
      "INFO:tensorflow:Restoring parameters from ./tmp/my_model_epoch_5\n",
      "100\n",
      "200\n",
      "300\n",
      "400\n",
      "500\n",
      "600\n",
      "700\n"
     ]
    }
   ],
   "source": [
    "# Prepare Data\n",
    "one_pixel_in_painting_images   = np.reshape(one_pixel_dataset[0,:,:-1],(-1, 783, 1))\n",
    "one_pixel_in_painting_images_gt   = np.reshape(one_pixel_dataset[1,:,:-1],(-1, 783, 1))\n",
    "one_pixel_in_painting_labels = one_pixel_dataset[1,:,1:]\n",
    "\n",
    "with tf.device('/device:GPU:*'):\n",
    "  tf.reset_default_graph()\n",
    "  with tf.Session() as sess:\n",
    "    saver = tf.train.import_meta_graph('./tmp/my_model_epoch_5.meta')\n",
    "    saver.restore(sess,'./tmp/my_model_epoch_5')\n",
    "    graph = tf.get_default_graph()\n",
    "\n",
    "    p = tf.get_collection(\"prediction\")[0]\n",
    "    l_p = tf.get_collection(\"loss_per_pixel\")[0]\n",
    "\n",
    "    for i in range(782):\n",
    "      pixel_number = i+1\n",
    "\n",
    "      if np.amin(one_pixel_in_painting_images[:,pixel_number,0]) == -1.0:\n",
    "        predictions, loss_per_p = sess.run([p, l_p], feed_dict={'x:0': one_pixel_in_painting_images, 'y_:0': one_pixel_in_painting_labels})\n",
    "\n",
    "        updated_full_image = in_painting_update_image(one_pixel_in_painting_images, predictions, pixel_number)\n",
    "        one_pixel_in_painting_images = updated_full_image[:,:-1,:]\n",
    "\n",
    "      if pixel_number%100 == 0:\n",
    "        print(pixel_number)\n",
    "\n",
    "\n",
    "    loss_all_pixels = np.reshape(loss_per_p, (1000,783)) \n",
    "\n",
    "    average_loss_all_pixel = np.mean(loss_all_pixels, axis = 1) #loss normalised across pixels\n",
    "\n",
    "    cross_entropy = np.mean(average_loss_all_pixel) #loss averaged across images in batch\n",
    "\n",
    "    final_pred_full_image = np.reshape(updated_full_image, (1000,28,28))\n",
    "\n"
   ]
  },
  {
   "cell_type": "code",
   "execution_count": 30,
   "metadata": {
    "colab": {
     "autoexec": {
      "startup": false,
      "wait_interval": 0
     },
     "base_uri": "https://localhost:8080/",
     "height": 68,
     "output_extras": [
      {
       "item_id": 2
      }
     ]
    },
    "colab_type": "code",
    "executionInfo": {
     "elapsed": 1555,
     "status": "ok",
     "timestamp": 1522584272842,
     "user": {
      "displayName": "Nick Thomson",
      "photoUrl": "https://lh3.googleusercontent.com/a/default-user=s128",
      "userId": "116544489914488299457"
     },
     "user_tz": -60
    },
    "id": "b3MSyBzUgDjk",
    "outputId": "c47565b8-c8ee-42cf-f54a-ba07ee40c8c7"
   },
   "outputs": [
    {
     "name": "stdout",
     "output_type": "stream",
     "text": [
      "INFO:tensorflow:Restoring parameters from ./tmp/my_model_epoch_5\n",
      "0.1193596\n",
      "0.13160448\n"
     ]
    }
   ],
   "source": [
    "print(ground_truth_cross_entropy (one_pixel_in_painting_images_gt, one_pixel_in_painting_labels, 5))\n",
    "print(cross_entropy)"
   ]
  },
  {
   "cell_type": "code",
   "execution_count": 31,
   "metadata": {
    "colab": {
     "autoexec": {
      "startup": false,
      "wait_interval": 0
     },
     "base_uri": "https://localhost:8080/",
     "height": 181,
     "output_extras": [
      {
       "item_id": 1
      }
     ]
    },
    "colab_type": "code",
    "executionInfo": {
     "elapsed": 681,
     "status": "ok",
     "timestamp": 1522584420328,
     "user": {
      "displayName": "Nick Thomson",
      "photoUrl": "https://lh3.googleusercontent.com/a/default-user=s128",
      "userId": "116544489914488299457"
     },
     "user_tz": -60
    },
    "id": "PGeeQQMZrjpu",
    "outputId": "c49c2a0d-53aa-4e00-8392-1747a899b4b4"
   },
   "outputs": [
    {
     "data": {
      "image/png": "[encoded data removed]",
      "text/plain": [
       "<matplotlib.figure.Figure at 0x7f20058105c0>"
      ]
     },
     "metadata": {
      "tags": []
     },
     "output_type": "display_data"
    }
   ],
   "source": [
    "\n",
    "# Visualize samples\n",
    "image_plot = 3\n",
    "visualise(1,3,1,final_pred_full_image[image_plot])\n",
    "visualise(1,3,2,one_pixel_dataset[0][image_plot])\n",
    "visualise(1,3,3,one_pixel_dataset[1][image_plot])\n"
   ]
  },
  {
   "cell_type": "markdown",
   "metadata": {
    "colab_type": "text",
    "id": "BfAXkujUtJ3O"
   },
   "source": [
    "### Two-by-two patch prediction "
   ]
  },
  {
   "cell_type": "code",
   "execution_count": 32,
   "metadata": {
    "colab": {
     "autoexec": {
      "startup": false,
      "wait_interval": 0
     },
     "base_uri": "https://localhost:8080/",
     "height": 153,
     "output_extras": [
      {
       "item_id": 7
      }
     ]
    },
    "colab_type": "code",
    "executionInfo": {
     "elapsed": 159262,
     "status": "ok",
     "timestamp": 1522584581560,
     "user": {
      "displayName": "Nick Thomson",
      "photoUrl": "https://lh3.googleusercontent.com/a/default-user=s128",
      "userId": "116544489914488299457"
     },
     "user_tz": -60
    },
    "id": "bszlYxHs5740",
    "outputId": "f7ac0160-3289-4d38-99da-c988f82abd94"
   },
   "outputs": [
    {
     "name": "stdout",
     "output_type": "stream",
     "text": [
      "INFO:tensorflow:Restoring parameters from ./tmp/my_model_epoch_5\n",
      "100\n",
      "200\n",
      "300\n",
      "400\n",
      "500\n",
      "600\n",
      "700\n"
     ]
    }
   ],
   "source": [
    "in_painting_images   = np.reshape(dataset[0,:,:-1],(-1, 783, 1))\n",
    "in_painting_images_gt   = np.reshape(dataset[1,:,:-1],(-1, 783, 1))\n",
    "in_painting_labels = dataset[1,:,1:]\n",
    "\n",
    "with tf.device('/device:GPU:*'):\n",
    "  tf.reset_default_graph()\n",
    "  with tf.Session() as sess:\n",
    "    saver = tf.train.import_meta_graph('./tmp/my_model_epoch_5.meta')\n",
    "    saver.restore(sess,'./tmp/my_model_epoch_5')\n",
    "    graph = tf.get_default_graph()\n",
    "\n",
    "    p = tf.get_collection(\"prediction\")[0]\n",
    "    l_p = tf.get_collection(\"loss_per_pixel\")[0]\n",
    "\n",
    "    for i in range(782):\n",
    "      pixel_number = i+1\n",
    "\n",
    "      if np.amin(in_painting_images[:,pixel_number,0]) == -1.0:\n",
    "        predictions, loss_per_p = sess.run([p, l_p], feed_dict={'x:0': in_painting_images, 'y_:0': in_painting_labels})\n",
    "\n",
    "        updated_full_image = in_painting_update_image(in_painting_images, predictions, pixel_number)\n",
    "        in_painting_images = updated_full_image[:,:-1,:]\n",
    "\n",
    "      if pixel_number%100 == 0:\n",
    "        print(pixel_number)\n",
    "\n",
    "\n",
    "    loss_all_pixels = np.reshape(loss_per_p, (1000,783)) \n",
    "\n",
    "    average_loss_all_pixel = np.mean(loss_all_pixels, axis = 1) #loss normalised across pixels\n",
    "\n",
    "    cross_entropy = np.mean(average_loss_all_pixel) #loss averaged across images in batch\n",
    "\n",
    "    final_pred_full_image = np.reshape(updated_full_image, (1000,28,28))"
   ]
  },
  {
   "cell_type": "code",
   "execution_count": 33,
   "metadata": {
    "colab": {
     "autoexec": {
      "startup": false,
      "wait_interval": 0
     },
     "base_uri": "https://localhost:8080/",
     "height": 68,
     "output_extras": [
      {
       "item_id": 2
      }
     ]
    },
    "colab_type": "code",
    "executionInfo": {
     "elapsed": 1437,
     "status": "ok",
     "timestamp": 1522584583061,
     "user": {
      "displayName": "Nick Thomson",
      "photoUrl": "https://lh3.googleusercontent.com/a/default-user=s128",
      "userId": "116544489914488299457"
     },
     "user_tz": -60
    },
    "id": "HDDX-7IsgbjS",
    "outputId": "b643f5a1-995b-446b-b163-4286da4fa03b"
   },
   "outputs": [
    {
     "name": "stdout",
     "output_type": "stream",
     "text": [
      "INFO:tensorflow:Restoring parameters from ./tmp/my_model_epoch_5\n",
      "0.11949003\n",
      "0.13339199\n"
     ]
    }
   ],
   "source": [
    "print(ground_truth_cross_entropy (in_painting_images_gt, in_painting_labels, 5))\n",
    "print(cross_entropy)"
   ]
  },
  {
   "cell_type": "code",
   "execution_count": 34,
   "metadata": {
    "colab": {
     "autoexec": {
      "startup": false,
      "wait_interval": 0
     },
     "base_uri": "https://localhost:8080/",
     "height": 181,
     "output_extras": [
      {
       "item_id": 1
      }
     ]
    },
    "colab_type": "code",
    "executionInfo": {
     "elapsed": 669,
     "status": "ok",
     "timestamp": 1522584583804,
     "user": {
      "displayName": "Nick Thomson",
      "photoUrl": "https://lh3.googleusercontent.com/a/default-user=s128",
      "userId": "116544489914488299457"
     },
     "user_tz": -60
    },
    "id": "9YayTWkNtJ3P",
    "outputId": "f6cd6aed-79dd-426d-e6e5-d4f2c796b900"
   },
   "outputs": [
    {
     "data": {
      "image/png": "[encoded data removed]",
      "text/plain": [
       "<matplotlib.figure.Figure at 0x7f2036071588>"
      ]
     },
     "metadata": {
      "tags": []
     },
     "output_type": "display_data"
    }
   ],
   "source": [
    "# Visualize samples\n",
    "image_plot = 3\n",
    "visualise(1,3,1,final_pred_full_image[image_plot])\n",
    "visualise(1,3,2,dataset[0][image_plot])\n",
    "visualise(1,3,3,dataset[1][image_plot])"
   ]
  },
  {
   "cell_type": "markdown",
   "metadata": {
    "colab_type": "text",
    "id": "HD7rYopMVush"
   },
   "source": [
    "### Results\n",
    "**1) Provide the formula used to compute the probability over the missing pixel and respectively for the missing patch [5+5 pts]**\n",
    "\n",
    "** Missing Pixel **\n",
    "\n",
    "\\begin{equation}\n",
    "    \\hat{p}(x_{t+1}|x_{1:t}) = g(x_{t}, h_{t}, c_{t})\n",
    "\\end{equation}\n",
    "\n",
    "This just means the current pixel is predicted given all previous pixels.\n",
    "\n",
    "** Missing Patch **\n",
    "\n",
    "For top left pixel (pixel i)\n",
    "\\begin{equation}\n",
    "    \\hat{p}(x_{t+1}|x_{1:t}) = g(x_{t}, h_{t}, c_{t})\n",
    "\\end{equation}\n",
    "\n",
    "This is exactly the same as 1x1 pixel prediction due to the nature of the LSTM.\n",
    "\n",
    "For top right pixel (pixel j)\n",
    "\n",
    "\\begin{equation}\n",
    "    \\hat{p}(x_{t+1}|x_{1:t}) = g(\\hat{x_{t}}, h_{t}, c_{t})\n",
    "\\end{equation}\n",
    "\n",
    "This takes into account the pixels until t-1 and the predicted pixel.\n",
    "\n",
    "For bottom left pixel(third pixel)\n",
    "\n",
    "\\begin{equation}\n",
    "    \\hat{p}(x_{t+1}|x_{1:t}, \\hat{x_i}, \\hat{x_j}) = g(x_{t}, h_{t}, c_{t})\n",
    "\\end{equation}\n",
    "\n",
    "For $i, j \\neq t$ the prediction takes into account previous pixels including the predicted pixels and the pixels between the pixels predicted and this pixel.\n",
    "For the bottom right pixel (fourth pixel)\n",
    "\n",
    "\\begin{equation}\n",
    "    \\hat{p}(x_{t+1}|x_{1:t}, \\hat{x_i}, \\hat{x_j}) = g(\\hat{x_{t}}, h_{t}, c_{t})\n",
    "\\end{equation}\n",
    "\n",
    "Very similar update to above, we again take into account the entirity of the previous pixels.\n",
    "\n",
    "**2) Visualize the most probable in-painting, according to your model. How does this compare to the ground truth? (Compare cross-entropy between your most probable sample and the ground truth). Explain the difference. It is enough to include just one example per task/dataset. [10 pts]**\n",
    "\n",
    "Due to the nature of the task, the cross entropy of both the ground truth and the predicted pixels is very close. The differences between the 2 tasks were also noticable with the 2x2 pixels inpainting having higher loss on average than the 1x1 pixels, this is due to the the 2x2 inpainting filling in 4 pixels compared to the 1x1's 1. The ground truth loss is lower than the 1x1 on average, while the 1x1 is on average lower than 2x2."
   ]
  },
  {
   "cell_type": "markdown",
   "metadata": {
    "colab_type": "text",
    "id": "3-nWwpWryjBO"
   },
   "source": [
    "----------------------------------------------------------------------\n",
    "\n",
    "## PART 2: Learning multiple tasks with LSTM-s (40 pts)\n",
    "(Credits to Pedro Ortega for insipring the task and insights behind it)"
   ]
  },
  {
   "cell_type": "markdown",
   "metadata": {
    "colab_type": "text",
    "id": "xUSn2r_Q1ahS"
   },
   "source": [
    "### Task Description\n",
    "\n",
    "Consider the following generative model: \n",
    "* We have $3$ symbols that will be generates from a multinomial/categorical distribution, with parameters $\\textbf{p}=(p_1, p_2, p_3)$: symbol 1 is generated with probability $p_1$, symbol 2 is generated with probability $p_2$, symbol 3 with probability $p_3$. \n",
    "$$X \\sim Categorical(3, \\textbf{p})$$\n",
    "\n",
    "* The parameter vector $\\textbf{p}$ is drawn from a Dirichlet prior: $$\\textbf{p} \\sim Dirichlet(\\alpha)$$\n",
    "\n",
    "We are going to use the above to generate sequences (a continuous stream of data/observations), in the following way:\n",
    "* Step 1: We sample $\\textbf{p}$ from the prior\n",
    "* Step 2: Given this $\\textbf{p}$, for $T-1$ time-steps we will generate i.i.d observations by sampling one of the $3$ symbols from the categorical distribution induced by $\\textbf{p}$\n",
    "$$ (X_1, X_2, \\cdots X_{T-1}) , s.t. X_i \\sim Categorical(3, \\textbf{p})$$\n",
    "* Step 3: At the end of the sequence we append a fourth symbol (RESET): $(X_1, X_2, \\cdots X_T, RESET)$\n",
    "* Step 4: Return to Step 1 and resample $\\textbf{p}$. \n",
    "* Repeat this 'forever'.\n",
    "\n",
    "This will give rise to a continuous stream of data, of the form: $ x_1, x_2, \\cdots x_{T-1}, RESET, x_{T+1}, x_{T+2}, \\cdots x_{2T}, RESET, \\cdots, x_{kT+1}, x_{kT+2}, \\cdots x_{(k+1)T}, RESET, \\cdots$.\n",
    "\n",
    "Note: Data generation is provided for you in the cell below. (You just need to call the minibatch function to get a sequence of this form).\n",
    "\n",
    "### Model\n",
    "\n",
    "We are going to consider an simple LSTM (32 units hidden state) and present this (generated) sequence of data as an input. Similar to the pixel-to-pixel model, at each time step the LSTM will receive one bit of information (gets to observe the symbol recorded at this time step) and need to output the probability distribution for the next symbol. Thus, at time $t$ the LSTM get as input the symbol $x_t$ and will return a probability over the next state $P(x_{t+1}| x_{t}, LSTM_{t-1})$.\n",
    "\n"
   ]
  },
  {
   "cell_type": "markdown",
   "metadata": {
    "colab_type": "text",
    "id": "vFavOEFCUH3L"
   },
   "source": [
    "\n",
    "### Questions\n",
    "\n",
    "1) **Without running any experiments (5 pts)**, try to think about the following scenarios and answer these questions: \n",
    "* Consider we generate the data with $Dirichlet(\\alpha)$, where $\\alpha = (10.,1.,1.)$. What do you think the LSTM model will learn, if anything? Remember we are effectively changing the prediction task, every time we are resampling the probability vector $\\textbf{p}$. * Hint: Think about the distribution over $\\textbf{p}$ that this prior induces. *  \n",
    "\n",
    "* What if we consider a more uniformative prior, like $\\alpha=(1.1, 1.1, 1.1)$?  \n",
    "\n",
    "* How does this (learning ability and generalization) depend on the lenght of the tasks $T$ and the unrolling length on the LSTM? It might be helpful to consider the two extremes: \n",
    "\n",
    "i) $T=1$ (we reset the task at every time step). What should the model learn in this case?, ii) $T=\\infty$ (we sample the task once and keep it forever). What should the model learn in this case? (Answer this for both previous priors)\n",
    "\n",
    "* Does this increase or descrease the complexity of the prediction problem? What about the ability to generalize to unseen $\\textbf{p}$?\n",
    "\n",
    "**Answer**  I think the LSTM model will learn purely to predict the first symbol, this is due to the heavy skew of the prior. The likelihood of predicting the other 2 symbols correctly is very low and in order to maximise the probability of being correct it should predict symbol 1 100% of the time. If the prior was more uniform, then the model would predict each symbol with equal chance at the beginning of the task, as time increases the LSTM would predict which ever symbol is being produced most, however since all symbols have equal likelihood it will remain neutral. As the reset will cause the model to relearn from the prior, for shorts tasks with a highly skewed prior (10,1,1) the model should still just predict symbol 1. However with the uniform prior, the model will return to randomly picking early on and only start to learn if the symbols are presenting certain patterns. \n",
    "\n",
    "Wih $T=1$, the model should select symbol 1 for the skewed prior and random symbols for the uniform. For $T=\\infty$, the model should learn to predict the prior, so for the skew prior it should predict symbol 2 $\\frac{1}{12}$ of the time.\n",
    "\n",
    "The both priors will increase in ability to generalise with $T=\\infty$. However, the uniform prior still generalises better. As T increases the complexity also increases. \n",
    "\n",
    "2) **Time to check your intuitions (10 pts)** \n",
    "\n",
    "Implement a similar LSTM model as in PART 1. This will take as input a one-hot description of the obsevation ($[1,0,0,0]$ for symbol 1. $[0,1,0,0]$ for symbol 2, $[0,0,1,0]$ for symbol 3, $[0,0,0,1]$ for the RESET symbol). This input is fed into a 32-unit LSTM and LSTM output is processed as before: $\\textrm{Relu} \\Rightarrow \\textrm{Fully connected} \\Rightarrow \\textrm{Relu} \\Rightarrow \\textrm{Fully connected} \\Rightarrow \\textrm{Output}$ . The model will be trained, as before, by cross-entropy on predicting the next symbol. You will notice that the setup is really similar to the previous tasks, so feel free to re-use whenever appropiate.\n",
    "\n",
    "Train the following models:\n",
    "* T = 5, and T=20 with the data generated from a Dirichlet with $\\alpha = (10.,1.,1.)$. Unrolling length for the LSTM = 100. Minibatch size = 64. (M1, M2)\n",
    "* T = 5, and T=20 with the data generated from a Dirichlet with$\\alpha = (1.3, 1.3, 1.3)$ Unrolling length for the LSTM = 100. Minibatch size = 64. (M3, M4)\n",
    "\n",
    "Train the models for $1000$ iterations ($1000$ minibatches). Record the training and testing preformance (every 10-20 iterations). Plot the curves over training time. What do you observe? (Is this curve smooth? Do any of them plateau?). **[2x5 pts]**\n",
    "\n",
    "\n",
    "3) **Analysis results (10 pts)**\n",
    "\n",
    "In this section, we will investigate what the models have actaully learnt. For this we will generate a few test sequences:\n",
    "* *Test sequence 1*: generate a test sequence that changes tasks every T=5 steps from a a Dirichlet with $\\alpha = (10.,1.,1.)$.\n",
    "* *Test sequence 2*: generate a test sequence that changes tasks every T=5 steps from a a Dirichlet with $\\alpha = (1.3,1.3,1.3)$.\n",
    "* *Test sequence 3*: generate a test sequence that 'changes tasks' every T=5 steps, but keep sampling according to the same probability vector $\\textbf{p}=(1,0,0)$ (You can use any of the extreme here).\n",
    "\n",
    "i) Test the preformance of M1 and M3 and these test sequences. In addition plot the actual prediction the models do (probability of symbols over time). This should give you more insight in what the model does. Does this correspond or contradict your previous intuitions? **[5 pts]**\n",
    "\n",
    "ii) Repeat the same procedure for task length $T=20$ and models M2 and M4. What do you observe? How do M2 and M4 compare to each other and how to their compare to M1 and M3 (the models trained on the shorter task length). **[5 pts]**\n",
    "\n",
    "4) **Comparison to the Bayesian update (15 pts)**\n",
    "\n",
    "Going back to the generative process in the task description. For a given prior, for each the mini-tasks (selecting/sampling a $\\textbf{p}$), one could compute the Bayesian posterior at each time step.  We start with a prior and every time we observe a symbol with update our posterior over the parameters\n",
    " $\\textbf{p}$ given the data. We do this every time step, till we reach the RESET symbol which marks the end of the task. Then we start again, from the prior.\n",
    "\n",
    "i) Derive the posterior update for each time step. (Hint: since the two distribution are conjugates or each other, the posterior has a closed form). **[3 pts]**\n",
    "\n",
    "ii) Implement this posterior update and use it to infer the probabilities over the next symbol, for the previously generated test sequences. This will tell you, what the inferred probabilities would be, if we knew the structure of the model, the prior and that the reset symbol means the tasks has finished and we should reset our estimate to the prior. (For test sequence 1 and 2, use the prior that generated them, for test sequence 3 compute the updates starting from both priors) **[5 pts]**\n",
    "\n",
    "iii) Compare this to what the LSTM predictions are. What do you observe? What are the failure cases -- can you explain why this might happen? (For test sequence 1 and 2, use the prior that generated them, for test sequence 3 compute the updates starting from both priors). **[7 pts]**\n",
    " \n",
    "For this analysis, only consider $T=20$ and respectively models M2 and M4.\n",
    "\n",
    "5) **Play (not for credit, just for fun)**\n",
    "\n",
    "Visualize the hidden state of the LSTM. Look at the eigenvalues: How many of these are actual revelant? What do they correspond to?\n",
    "\n"
   ]
  },
  {
   "cell_type": "code",
   "execution_count": null,
   "metadata": {
    "cellView": "both",
    "colab": {
     "autoexec": {
      "startup": false,
      "wait_interval": 0
     }
    },
    "colab_type": "code",
    "id": "7D0rGNa-ytbO"
   },
   "outputs": [],
   "source": [
    "#@title Generate data function\n",
    "\n",
    "n_symbols = 3\n",
    "def get_data_per_task(number_samples_per_task=10, p=None, alpha=None):\n",
    "  if p == None:\n",
    "    # sample task\n",
    "    if alpha == None:\n",
    "      p = np.random.dirichlet((1.3, 1.3, 1.3), 1)[0]\n",
    "    else:\n",
    "      p = np.random.dirichlet(alpha, 1)[0]\n",
    "    \n",
    "  p = np.append(p, [0])\n",
    "  sample = np.random.multinomial(1, p, size = number_samples_per_task)\n",
    "  \n",
    "  sample = np.append(sample,[[0,0,0,1]], axis=0)\n",
    "  return sample\n",
    "  \n",
    "\n",
    "def get_data(ntasks, nsamples_per_task, p=None, alpha=None):\n",
    "  sample = []\n",
    "  for task_id in range(ntasks):\n",
    "    sample.append(get_data_per_task(number_samples_per_task = nsamples_per_task, p=p, alpha=alpha))\n",
    "  return np.concatenate(sample)\n",
    "\n",
    "\n",
    "def get_minibatch(batch_size, ntasks, nsamples_per_task, p=None, alpha=None):\n",
    "  sample = get_data(batch_size*ntasks, nsamples_per_task, p=p, alpha=alpha)\n",
    "  return np.reshape(sample, [batch_size, ntasks*(nsamples_per_task+1), n_symbols+1])\n",
    "  "
   ]
  },
  {
   "cell_type": "markdown",
   "metadata": {
    "colab_type": "text",
    "id": "YeVJ2gGdieG-"
   },
   "source": [
    "### Training your recurrent model"
   ]
  },
  {
   "cell_type": "code",
   "execution_count": null,
   "metadata": {
    "colab": {
     "autoexec": {
      "startup": false,
      "wait_interval": 0
     }
    },
    "colab_type": "code",
    "id": "ZW2TXgK6rmWZ"
   },
   "outputs": [],
   "source": [
    "RNN_units = 32\n",
    "epochs = 0\n",
    "num_epochs = 5\n",
    "learning_rate = 0.001\n",
    "batch_size = 64\n",
    "num_input = 4\n",
    "timesteps = 100\n",
    "num_classes = 4\n",
    "hidden_units = 64\n",
    "test_batch_size = 10000"
   ]
  },
  {
   "cell_type": "code",
   "execution_count": null,
   "metadata": {
    "cellView": "both",
    "colab": {
     "autoexec": {
      "startup": false,
      "wait_interval": 0
     }
    },
    "colab_type": "code",
    "id": "GpSBS2IKgZY3"
   },
   "outputs": [],
   "source": [
    "\n",
    "with tf.device('/device:GPU:*'):\n",
    "\n",
    "  \n",
    "  tf.reset_default_graph()\n",
    "  x = tf.placeholder(\"float\", [None, timesteps - 1, num_input], name='x')\n",
    "  y_ = tf.placeholder(\"float\", [None, timesteps - 1, num_classes], name='y_')\n",
    "\n",
    "  LSTM = tf.nn.rnn_cell.LSTMCell(RNN_units)\n",
    "\n",
    "  outputs, state = tf.nn.dynamic_rnn(LSTM, x, dtype=tf.float32)\n",
    "\n",
    "  final_output = tf.nn.relu(outputs)\n",
    "  \n",
    "  w1 = tf.get_variable(\"w1\", shape=[RNN_units, hidden_units], initializer=tf.contrib.layers.xavier_initializer())\n",
    "  b1 = tf.get_variable(\"b1\", shape=[hidden_units], initializer=tf.zeros_initializer())\n",
    "  w2 = tf.get_variable(\"w2\", shape=[hidden_units, num_classes], initializer=tf.contrib.layers.xavier_initializer())\n",
    "  b2 = tf.get_variable(\"b2\", shape=[num_classes], initializer=tf.zeros_initializer())\n",
    "  \n",
    "  hidden_1 = tf.nn.relu(tf.add(tf.matmul(tf.reshape(final_output, [-1, 32]), w1),b1))\n",
    "  logits = tf.reshape(tf.add(tf.matmul(hidden_1, w2),b2), [-1,99, num_classes])\n",
    "  prediction = tf.nn.softmax(logits)\n",
    "  \n",
    "  loss = tf.reduce_mean(tf.nn.softmax_cross_entropy_with_logits_v2(logits=logits, labels=y_))\n",
    "  optimizer = tf.train.AdamOptimizer(learning_rate=learning_rate)\n",
    "  train = optimizer.minimize(loss)\n",
    "  \n",
    "  correct_pred = tf.equal(tf.round(prediction), y_)\n",
    "  accuracy = tf.reduce_mean(tf.cast(correct_pred, tf.float32))\n",
    "  \n",
    "  tf.add_to_collection(\"prediction\", prediction)\n",
    "  tf.add_to_collection(\"loss\", loss)\n",
    "  \n",
    "  saver = tf.train.Saver()"
   ]
  },
  {
   "cell_type": "code",
   "execution_count": 38,
   "metadata": {
    "cellView": "both",
    "colab": {
     "autoexec": {
      "startup": false,
      "wait_interval": 0
     },
     "base_uri": "https://localhost:8080/",
     "height": 221,
     "output_extras": [
      {
       "item_id": 11
      }
     ]
    },
    "colab_type": "code",
    "executionInfo": {
     "elapsed": 169146,
     "status": "ok",
     "timestamp": 1522584775476,
     "user": {
      "displayName": "Nick Thomson",
      "photoUrl": "https://lh3.googleusercontent.com/a/default-user=s128",
      "userId": "116544489914488299457"
     },
     "user_tz": -60
    },
    "id": "zUGYk0AggZY8",
    "outputId": "5dfbca0d-7a1f-46e0-8790-c7a6400e2311"
   },
   "outputs": [
    {
     "name": "stdout",
     "output_type": "stream",
     "text": [
      "Batch: 100, Loss= 0.9094, Training Accuracy= 0.829\n",
      "Batch: 200, Loss= 0.5842, Training Accuracy= 0.921\n",
      "Batch: 300, Loss= 0.4601, Training Accuracy= 0.936\n",
      "Batch: 400, Loss= 0.4496, Training Accuracy= 0.936\n",
      "Batch: 500, Loss= 0.4478, Training Accuracy= 0.935\n",
      "Batch: 600, Loss= 0.4566, Training Accuracy= 0.932\n",
      "Batch: 700, Loss= 0.4540, Training Accuracy= 0.933\n",
      "Batch: 800, Loss= 0.4466, Training Accuracy= 0.934\n",
      "Batch: 900, Loss= 0.4532, Training Accuracy= 0.933\n",
      "Batch: 1000, Loss= 0.4509, Training Accuracy= 0.933\n",
      "Testing Accuracy: 0.9326862\n",
      "Testing Loss: 0.45088246\n"
     ]
    }
   ],
   "source": [
    "M1_accuracy = []\n",
    "M1_loss = []\n",
    "\n",
    "with tf.device('/device:GPU:*'):\n",
    "\n",
    "  # Initialize variables \n",
    "  init = tf.global_variables_initializer()\n",
    "\n",
    " # Train\n",
    "  with tf.Session() as sess:\n",
    "\n",
    "      sess.run(init)\n",
    "      \n",
    "      for batch_no in range(1, 1001):\n",
    "        minibatch = get_minibatch(batch_size = batch_size, ntasks = 20, nsamples_per_task = 4,  alpha = (10.,1.,1.))\n",
    "        batch_data = minibatch[:,:-1,:]\n",
    "        batch_labels = minibatch[:,1:,:]\n",
    "        sess.run(train, feed_dict={x: batch_data, y_: batch_labels})\n",
    "\n",
    "        if batch_no % 10 == 0:\n",
    "            # Calculate loss and accuracy\n",
    "            batch_loss, batch_acc = sess.run([loss, accuracy], feed_dict={x: batch_data,\n",
    "                                                                 y_: batch_labels})\n",
    "\n",
    "            M1_accuracy.append(batch_acc)\n",
    "            M1_loss.append(batch_loss)\n",
    "        if batch_no % 100 == 0:\n",
    "            print(\"Batch: \" + str(batch_no) + \", Loss= \" + \\\n",
    "                  \"{:.4f}\".format(batch_loss) + \", Training Accuracy= \" + \\\n",
    "                  \"{:.3f}\".format(batch_acc))\n",
    "\n",
    "      # Calculate accuracy on test images\n",
    "      testset = get_minibatch(batch_size = test_batch_size, ntasks = 20, nsamples_per_task = 4,  alpha = (10.,1.,1.))\n",
    "      test_data = minibatch[:,:-1,:]\n",
    "      test_labels = minibatch[:,1:,:]\n",
    "      test_loss, test_acc = sess.run([loss, accuracy], feed_dict={x: test_data,\n",
    "                                                                   y_: test_labels})\n",
    "      \n",
    "      print(\"Testing Accuracy:\", test_acc )\n",
    "      \n",
    "      print(\"Testing Loss:\", test_loss)\n",
    "      \n",
    "      saver.save(sess, './my_model_1')"
   ]
  },
  {
   "cell_type": "code",
   "execution_count": 39,
   "metadata": {
    "colab": {
     "autoexec": {
      "startup": false,
      "wait_interval": 0
     },
     "base_uri": "https://localhost:8080/",
     "height": 221,
     "output_extras": [
      {
       "item_id": 11
      }
     ]
    },
    "colab_type": "code",
    "executionInfo": {
     "elapsed": 136731,
     "status": "ok",
     "timestamp": 1522584912235,
     "user": {
      "displayName": "Nick Thomson",
      "photoUrl": "https://lh3.googleusercontent.com/a/default-user=s128",
      "userId": "116544489914488299457"
     },
     "user_tz": -60
    },
    "id": "6xK9BTSBzTIq",
    "outputId": "2854222d-435e-4a57-901d-970edf7a2b07"
   },
   "outputs": [
    {
     "name": "stdout",
     "output_type": "stream",
     "text": [
      "Batch: 100, Loss= 0.7512, Training Accuracy= 0.891\n",
      "Batch: 200, Loss= 0.7439, Training Accuracy= 0.893\n",
      "Batch: 300, Loss= 0.7077, Training Accuracy= 0.896\n",
      "Batch: 400, Loss= 0.6214, Training Accuracy= 0.907\n",
      "Batch: 500, Loss= 0.5375, Training Accuracy= 0.924\n",
      "Batch: 600, Loss= 0.5100, Training Accuracy= 0.927\n",
      "Batch: 700, Loss= 0.5371, Training Accuracy= 0.919\n",
      "Batch: 800, Loss= 0.5663, Training Accuracy= 0.915\n",
      "Batch: 900, Loss= 0.5120, Training Accuracy= 0.922\n",
      "Batch: 1000, Loss= 0.5141, Training Accuracy= 0.922\n",
      "Testing Accuracy: 0.92203283\n",
      "Testing Loss: 0.51414907\n"
     ]
    }
   ],
   "source": [
    "M2_accuracy = []\n",
    "M2_loss = []\n",
    "\n",
    "with tf.device('/device:GPU:*'):\n",
    "\n",
    "  \n",
    "  init = tf.global_variables_initializer()\n",
    "  \n",
    "  with tf.Session() as sess:\n",
    "\n",
    "      sess.run(init)\n",
    "      \n",
    "      for batch_no in range(1, 1001):\n",
    "        minibatch = get_minibatch(batch_size = batch_size, ntasks = 5, nsamples_per_task = 19,  alpha = (10.,1.,1.))\n",
    "        batch_data = minibatch[:,:-1,:]\n",
    "        batch_labels = minibatch[:,1:,:]\n",
    "        sess.run(train, feed_dict={x: batch_data, y_: batch_labels})\n",
    "\n",
    "        if batch_no % 10 == 0:\n",
    "            batch_loss, batch_acc = sess.run([loss, accuracy], feed_dict={x: batch_data,\n",
    "                                                                 y_: batch_labels})\n",
    "\n",
    "            M2_accuracy.append(batch_acc)\n",
    "            M2_loss.append(batch_loss)\n",
    "        if batch_no % 100 == 0:\n",
    "            print(\"Batch: \" + str(batch_no) + \", Loss= \" + \\\n",
    "                  \"{:.4f}\".format(batch_loss) + \", Training Accuracy= \" + \\\n",
    "                  \"{:.3f}\".format(batch_acc))\n",
    "\n",
    "      testset = get_minibatch(batch_size = test_batch_size, ntasks = 5, nsamples_per_task = 19,  alpha = (10.,1.,1.))\n",
    "      test_data = minibatch[:,:-1,:]\n",
    "      test_labels = minibatch[:,1:,:]\n",
    "      test_loss, test_acc = sess.run([loss, accuracy], feed_dict={x: test_data,\n",
    "                                                                   y_: test_labels})\n",
    "      \n",
    "      print(\"Testing Accuracy:\", test_acc )\n",
    "      \n",
    "      print(\"Testing Loss:\", test_loss)\n",
    "      \n",
    "      saver.save(sess, './my_model_2')\n",
    "\n",
    "\n",
    "\n"
   ]
  },
  {
   "cell_type": "code",
   "execution_count": 40,
   "metadata": {
    "colab": {
     "autoexec": {
      "startup": false,
      "wait_interval": 0
     },
     "base_uri": "https://localhost:8080/",
     "height": 221,
     "output_extras": [
      {
       "item_id": 11
      }
     ]
    },
    "colab_type": "code",
    "executionInfo": {
     "elapsed": 172650,
     "status": "ok",
     "timestamp": 1522585084974,
     "user": {
      "displayName": "Nick Thomson",
      "photoUrl": "https://lh3.googleusercontent.com/a/default-user=s128",
      "userId": "116544489914488299457"
     },
     "user_tz": -60
    },
    "id": "gxgMk8t5zTlG",
    "outputId": "b26ead54-1aee-48ba-9789-52a3da4b8366"
   },
   "outputs": [
    {
     "name": "stdout",
     "output_type": "stream",
     "text": [
      "Batch: 100, Loss= 1.0268, Training Accuracy= 0.799\n",
      "Batch: 200, Loss= 0.8592, Training Accuracy= 0.807\n",
      "Batch: 300, Loss= 0.8470, Training Accuracy= 0.808\n",
      "Batch: 400, Loss= 0.8471, Training Accuracy= 0.806\n",
      "Batch: 500, Loss= 0.8430, Training Accuracy= 0.806\n",
      "Batch: 600, Loss= 0.8450, Training Accuracy= 0.805\n",
      "Batch: 700, Loss= 0.8461, Training Accuracy= 0.805\n",
      "Batch: 800, Loss= 0.8342, Training Accuracy= 0.808\n",
      "Batch: 900, Loss= 0.8334, Training Accuracy= 0.808\n",
      "Batch: 1000, Loss= 0.8384, Training Accuracy= 0.807\n",
      "Testing Accuracy: 0.8073706\n",
      "Testing Loss: 0.83844924\n"
     ]
    }
   ],
   "source": [
    "M3_accuracy = []\n",
    "M3_loss = []\n",
    "\n",
    "with tf.device('/device:GPU:*'):\n",
    "\n",
    "  \n",
    "  init = tf.global_variables_initializer()\n",
    "  \n",
    "  with tf.Session() as sess:\n",
    "\n",
    "      sess.run(init)\n",
    "      \n",
    "      for batch_no in range(1, 1001):\n",
    "        minibatch = get_minibatch(batch_size = batch_size, ntasks = 20, nsamples_per_task = 4,  alpha = (1.3,1.3,1.3))\n",
    "        batch_data = minibatch[:,:-1,:]\n",
    "        batch_labels = minibatch[:,1:,:]\n",
    "        sess.run(train, feed_dict={x: batch_data, y_: batch_labels})\n",
    "\n",
    "        if batch_no % 10 == 0:\n",
    "            batch_loss, batch_acc = sess.run([loss, accuracy], feed_dict={x: batch_data,\n",
    "                                                                 y_: batch_labels})\n",
    "\n",
    "            M3_accuracy.append(batch_acc)\n",
    "            M3_loss.append(batch_loss)\n",
    "        if batch_no % 100 == 0:\n",
    "            print(\"Batch: \" + str(batch_no) + \", Loss= \" + \\\n",
    "                  \"{:.4f}\".format(batch_loss) + \", Training Accuracy= \" + \\\n",
    "                  \"{:.3f}\".format(batch_acc))\n",
    "\n",
    "      testset = get_minibatch(batch_size = test_batch_size, ntasks = 20, nsamples_per_task = 4,  alpha = (1.3,1.3,1.3))\n",
    "      test_data = minibatch[:,:-1,:]\n",
    "      test_labels = minibatch[:,1:,:]\n",
    "      test_loss, test_acc = sess.run([loss, accuracy], feed_dict={x: test_data,\n",
    "                                                                   y_: test_labels})\n",
    "      \n",
    "      print(\"Testing Accuracy:\", test_acc )\n",
    "      \n",
    "      print(\"Testing Loss:\", test_loss)\n",
    "      \n",
    "      saver.save(sess, './my_model_3')\n",
    "\n",
    "\n",
    "\n"
   ]
  },
  {
   "cell_type": "code",
   "execution_count": 41,
   "metadata": {
    "colab": {
     "autoexec": {
      "startup": false,
      "wait_interval": 0
     },
     "base_uri": "https://localhost:8080/",
     "height": 221,
     "output_extras": [
      {
       "item_id": 11
      }
     ]
    },
    "colab_type": "code",
    "executionInfo": {
     "elapsed": 141192,
     "status": "ok",
     "timestamp": 1522585226233,
     "user": {
      "displayName": "Nick Thomson",
      "photoUrl": "https://lh3.googleusercontent.com/a/default-user=s128",
      "userId": "116544489914488299457"
     },
     "user_tz": -60
    },
    "id": "Y6qZKUQRzT1-",
    "outputId": "586e774c-ddd8-4991-e537-9dbd6c61b470"
   },
   "outputs": [
    {
     "name": "stdout",
     "output_type": "stream",
     "text": [
      "Batch: 100, Loss= 1.1411, Training Accuracy= 0.766\n",
      "Batch: 200, Loss= 1.1285, Training Accuracy= 0.770\n",
      "Batch: 300, Loss= 1.0130, Training Accuracy= 0.776\n",
      "Batch: 400, Loss= 0.9650, Training Accuracy= 0.783\n",
      "Batch: 500, Loss= 0.9442, Training Accuracy= 0.787\n",
      "Batch: 600, Loss= 0.9511, Training Accuracy= 0.783\n",
      "Batch: 700, Loss= 0.9316, Training Accuracy= 0.785\n",
      "Batch: 800, Loss= 0.9250, Training Accuracy= 0.792\n",
      "Batch: 900, Loss= 0.9414, Training Accuracy= 0.784\n",
      "Batch: 1000, Loss= 0.9148, Training Accuracy= 0.792\n",
      "Testing Accuracy: 0.79229796\n",
      "Testing Loss: 0.9147676\n"
     ]
    }
   ],
   "source": [
    "M4_accuracy = []\n",
    "M4_loss = []\n",
    "\n",
    "with tf.device('/device:GPU:*'):\n",
    "\n",
    "  \n",
    "  init = tf.global_variables_initializer()\n",
    "  \n",
    "  with tf.Session() as sess:\n",
    "\n",
    "      sess.run(init)\n",
    "      \n",
    "      for batch_no in range(1, 1001):\n",
    "        minibatch = get_minibatch(batch_size = batch_size, ntasks = 5, nsamples_per_task = 19,  alpha = (1.3,1.3,1.3))\n",
    "        batch_data = minibatch[:,:-1,:]\n",
    "        batch_labels = minibatch[:,1:,:]\n",
    "        sess.run(train, feed_dict={x: batch_data, y_: batch_labels})\n",
    "\n",
    "        if batch_no % 10 == 0:\n",
    "            batch_loss, batch_acc = sess.run([loss, accuracy], feed_dict={x: batch_data,\n",
    "                                                                 y_: batch_labels})\n",
    "\n",
    "            M4_accuracy.append(batch_acc)\n",
    "            M4_loss.append(batch_loss)\n",
    "        if batch_no % 100 == 0:\n",
    "            print(\"Batch: \" + str(batch_no) + \", Loss= \" + \\\n",
    "                  \"{:.4f}\".format(batch_loss) + \", Training Accuracy= \" + \\\n",
    "                  \"{:.3f}\".format(batch_acc))\n",
    "\n",
    "      testset = get_minibatch(batch_size = test_batch_size, ntasks = 5, nsamples_per_task = 19,  alpha = (1.3,1.3,1.3))\n",
    "      test_data = minibatch[:,:-1,:]\n",
    "      test_labels = minibatch[:,1:,:]\n",
    "      test_loss, test_acc = sess.run([loss, accuracy], feed_dict={x: test_data,\n",
    "                                                                   y_: test_labels})\n",
    "      \n",
    "      print(\"Testing Accuracy:\", test_acc )\n",
    "      \n",
    "      print(\"Testing Loss:\", test_loss)\n",
    "      \n",
    "      saver.save(sess, './my_model_4')\n",
    "\n",
    "\n",
    "\n"
   ]
  },
  {
   "cell_type": "markdown",
   "metadata": {
    "colab_type": "text",
    "id": "WVa3hXcminFh"
   },
   "source": [
    "### Analysing your recurrent model"
   ]
  },
  {
   "cell_type": "code",
   "execution_count": 42,
   "metadata": {
    "colab": {
     "autoexec": {
      "startup": false,
      "wait_interval": 0
     },
     "base_uri": "https://localhost:8080/",
     "height": 361,
     "output_extras": [
      {
       "item_id": 1
      }
     ]
    },
    "colab_type": "code",
    "executionInfo": {
     "elapsed": 1379,
     "status": "ok",
     "timestamp": 1522585227646,
     "user": {
      "displayName": "Nick Thomson",
      "photoUrl": "https://lh3.googleusercontent.com/a/default-user=s128",
      "userId": "116544489914488299457"
     },
     "user_tz": -60
    },
    "id": "1jhC7JmIghuz",
    "outputId": "7cf3149d-0833-4034-ff3c-040ab8f4a744"
   },
   "outputs": [
    {
     "data": {
      "image/png": "[encoded data removed]",
      "text/plain": [
       "<matplotlib.figure.Figure at 0x7f2035f02b70>"
      ]
     },
     "metadata": {
      "tags": []
     },
     "output_type": "display_data"
    }
   ],
   "source": [
    "# Plot learning curves \n",
    "\n",
    "plt.plot(M1_accuracy, label='M1')\n",
    "plt.plot(M2_accuracy, label='M2')\n",
    "plt.plot(M3_accuracy, label='M3')\n",
    "plt.plot(M4_accuracy, label='M4')\n",
    "\n",
    "plt.ylabel('Accuracy')\n",
    "plt.xlabel(\"10's of Batches\")\n",
    "plt.legend()\n",
    "plt.show()"
   ]
  },
  {
   "cell_type": "code",
   "execution_count": 43,
   "metadata": {
    "colab": {
     "autoexec": {
      "startup": false,
      "wait_interval": 0
     },
     "base_uri": "https://localhost:8080/",
     "height": 361,
     "output_extras": [
      {
       "item_id": 1
      }
     ]
    },
    "colab_type": "code",
    "executionInfo": {
     "elapsed": 769,
     "status": "ok",
     "timestamp": 1522585228775,
     "user": {
      "displayName": "Nick Thomson",
      "photoUrl": "https://lh3.googleusercontent.com/a/default-user=s128",
      "userId": "116544489914488299457"
     },
     "user_tz": -60
    },
    "id": "bqou14KG6_g_",
    "outputId": "c6b45abd-a96f-49cb-fc68-5565b921bbcf"
   },
   "outputs": [
    {
     "data": {
      "image/png": "[encoded data removed]",
      "text/plain": [
       "<matplotlib.figure.Figure at 0x7f2039727c88>"
      ]
     },
     "metadata": {
      "tags": []
     },
     "output_type": "display_data"
    }
   ],
   "source": [
    "# Plot learning curves \n",
    "\n",
    "plt.plot(M1_loss, label='M1')\n",
    "plt.plot(M2_loss, label='M2')\n",
    "plt.plot(M3_loss, label='M3')\n",
    "plt.plot(M4_loss, label='M4')\n",
    "\n",
    "plt.ylabel('Accuracy')\n",
    "plt.xlabel(\"10's of Batches\")\n",
    "plt.legend()\n",
    "plt.show()"
   ]
  },
  {
   "cell_type": "code",
   "execution_count": null,
   "metadata": {
    "colab": {
     "autoexec": {
      "startup": false,
      "wait_interval": 0
     }
    },
    "colab_type": "code",
    "id": "bytP9O637Fov"
   },
   "outputs": [],
   "source": [
    "def test_performance (ntasks, nsamples_per_task, alpha, model_num):\n",
    "  meta_model = './my_model_' + str(model_num) + '.meta'\n",
    "  model = './my_model_' + str(model_num)\n",
    "  \n",
    "  #Use the model for predictions and compare log likelihood\n",
    "  with tf.device('/device:GPU:*'):\n",
    "    tf.reset_default_graph()\n",
    "    with tf.Session() as sess:\n",
    "      saver = tf.train.import_meta_graph(meta_model)\n",
    "      saver.restore(sess,model)\n",
    "      graph = tf.get_default_graph()\n",
    "      \n",
    "      preds = tf.get_collection(\"prediction\")[0]\n",
    "      losses = tf.get_collection(\"loss\")[0]\n",
    "      \n",
    "      minibatch = get_minibatch(10000, ntasks, nsamples_per_task, p=None, alpha=alpha)      \n",
    "      data = minibatch[:,:-1,:]\n",
    "      labels = minibatch[:,1:,:]\n",
    "      loss, p = sess.run([losses, preds], feed_dict={'x:0': data, 'y_:0': labels})\n",
    "                            \n",
    "    return loss, p"
   ]
  },
  {
   "cell_type": "code",
   "execution_count": 45,
   "metadata": {
    "colab": {
     "autoexec": {
      "startup": false,
      "wait_interval": 0
     },
     "base_uri": "https://localhost:8080/",
     "height": 221,
     "output_extras": [
      {
       "item_id": 12
      }
     ]
    },
    "colab_type": "code",
    "executionInfo": {
     "elapsed": 52040,
     "status": "ok",
     "timestamp": 1522585281569,
     "user": {
      "displayName": "Nick Thomson",
      "photoUrl": "https://lh3.googleusercontent.com/a/default-user=s128",
      "userId": "116544489914488299457"
     },
     "user_tz": -60
    },
    "id": "rJL1hwlD8D-Y",
    "outputId": "c65fb088-8b38-467d-cc4e-2fb0db0bb4ef"
   },
   "outputs": [
    {
     "name": "stdout",
     "output_type": "stream",
     "text": [
      "INFO:tensorflow:Restoring parameters from ./my_model_1\n",
      "INFO:tensorflow:Restoring parameters from ./my_model_1\n",
      "INFO:tensorflow:Restoring parameters from ./my_model_1\n",
      "INFO:tensorflow:Restoring parameters from ./my_model_3\n",
      "INFO:tensorflow:Restoring parameters from ./my_model_3\n",
      "INFO:tensorflow:Restoring parameters from ./my_model_3\n",
      "INFO:tensorflow:Restoring parameters from ./my_model_2\n",
      "INFO:tensorflow:Restoring parameters from ./my_model_2\n",
      "INFO:tensorflow:Restoring parameters from ./my_model_2\n",
      "INFO:tensorflow:Restoring parameters from ./my_model_4\n",
      "INFO:tensorflow:Restoring parameters from ./my_model_4\n",
      "INFO:tensorflow:Restoring parameters from ./my_model_4\n"
     ]
    }
   ],
   "source": [
    "m1_a1_loss, m1_a1_p = test_performance(20, 4, (10.,1.,1.) ,1)\n",
    "m1_a2_loss, m1_a2_p = test_performance(20, 4, (1.3,1.3,1.3) ,1)\n",
    "m1_a3_loss, m1_a3_p = test_performance(20, 4, (1000.,1.,1.) ,1)\n",
    "m1_losses = [m1_a1_loss, m1_a2_loss, m1_a3_loss]\n",
    "\n",
    "m3_a1_loss, m3_a1_p = test_performance(20, 4, (10.,1.,1.) ,3)\n",
    "m3_a2_loss, m3_a2_p = test_performance(20, 4, (1.3,1.3,1.3) ,3)\n",
    "m3_a3_loss, m3_a3_p = test_performance(20, 4, (1000.,1.,1.) ,3)\n",
    "m3_losses = [m3_a1_loss, m3_a2_loss, m3_a3_loss]\n",
    "\n",
    "m2_a1_loss, m2_a1_p = test_performance(5, 19, (10.,1.,1.) ,2)\n",
    "m2_a2_loss, m2_a2_p = test_performance(5, 19, (1.3,1.3,1.3) ,2)\n",
    "m2_a3_loss, m2_a3_p = test_performance(5, 19, (1000.,1.,1.) ,2)\n",
    "m2_losses = [m2_a1_loss, m2_a2_loss, m2_a3_loss]\n",
    "\n",
    "m4_a1_loss, m4_a1_p = test_performance(5, 19, (10.,1.,1.) ,4)\n",
    "m4_a2_loss, m4_a2_p = test_performance(5, 19, (1.3,1.3,1.3) ,4)\n",
    "m4_a3_loss, m4_a3_p = test_performance(5, 19, (1000.,1.,1.) ,4)\n",
    "m4_losses = [m4_a1_loss, m4_a2_loss, m4_a3_loss]"
   ]
  },
  {
   "cell_type": "code",
   "execution_count": 46,
   "metadata": {
    "colab": {
     "autoexec": {
      "startup": false,
      "wait_interval": 0
     },
     "base_uri": "https://localhost:8080/",
     "height": 85,
     "output_extras": [
      {
       "item_id": 1
      }
     ]
    },
    "colab_type": "code",
    "executionInfo": {
     "elapsed": 474,
     "status": "ok",
     "timestamp": 1522585282091,
     "user": {
      "displayName": "Nick Thomson",
      "photoUrl": "https://lh3.googleusercontent.com/a/default-user=s128",
      "userId": "116544489914488299457"
     },
     "user_tz": -60
    },
    "id": "Kr3Jjsss-k7v",
    "outputId": "727b07d5-c905-4395-ff73-431ec991e888"
   },
   "outputs": [
    {
     "name": "stdout",
     "output_type": "stream",
     "text": [
      "M1 performance: [0.4470628, 1.2150211, 0.1337121] \n",
      "M3 performance: [0.71561265, 0.8394574, 0.58161503] \n",
      "M2 performance: [0.52102035, 1.2319765, 0.1120379] \n",
      "M4 performance: [0.6204553, 0.9261282, 0.31768674]\n"
     ]
    }
   ],
   "source": [
    "print(\"M1 performance: {} \\nM3 performance: {} \\nM2 performance: {} \\nM4 performance: {}\".format\n",
    "     (m1_losses, m3_losses, m2_losses, m4_losses))"
   ]
  },
  {
   "cell_type": "markdown",
   "metadata": {
    "colab_type": "text",
    "id": "h9rymplUGcLk"
   },
   "source": [
    "It's clear to see here that model 1 performs better than model 3 in terms of loss when tested on skewed priors. When used for test 2 on the uniform prior, model 3 performed better, this is no shock as it was also trained on the uniform prior and thus the loss was lower. \n",
    "\n",
    "Model 2 outperformed model 4 in a similar way to model 1 and 3. This is expected as not much has changed in the testing. The difference between the two losses has reduced however, this is due to the longer sample lengths giving a model than generalises better."
   ]
  },
  {
   "cell_type": "code",
   "execution_count": null,
   "metadata": {
    "colab": {
     "autoexec": {
      "startup": false,
      "wait_interval": 0
     }
    },
    "colab_type": "code",
    "id": "3cUWzG7yGRVi"
   },
   "outputs": [],
   "source": [
    "import matplotlib.cm as cm\n",
    "\n",
    "def visualise_2(y_axis,x_axis,position, predictions, name):\n",
    "  preds = np.mean(predictions, axis = 0)\n",
    "  plt.subplot(y_axis,x_axis,position)\n",
    "  \n",
    "  plt.title('{} Predictions'.format(name))\n",
    "            \n",
    "  plt.imshow(preds, origin='lower', cmap=cm.Blues, aspect='auto', extent=[0,4,0,100])"
   ]
  },
  {
   "cell_type": "code",
   "execution_count": 48,
   "metadata": {
    "colab": {
     "autoexec": {
      "startup": false,
      "wait_interval": 0
     },
     "base_uri": "https://localhost:8080/",
     "height": 362,
     "output_extras": [
      {
       "item_id": 1
      }
     ]
    },
    "colab_type": "code",
    "executionInfo": {
     "elapsed": 945,
     "status": "ok",
     "timestamp": 1522585283819,
     "user": {
      "displayName": "Nick Thomson",
      "photoUrl": "https://lh3.googleusercontent.com/a/default-user=s128",
      "userId": "116544489914488299457"
     },
     "user_tz": -60
    },
    "id": "2jMNezKd_4GA",
    "outputId": "3af636e1-409e-4801-f0af-8ac829ef7753"
   },
   "outputs": [
    {
     "data": {
      "image/png": "[encoded data removed]",
      "text/plain": [
       "<matplotlib.figure.Figure at 0x7f2006035da0>"
      ]
     },
     "metadata": {
      "tags": []
     },
     "output_type": "display_data"
    }
   ],
   "source": [
    "visualise_2(1,3,1,m1_a1_p, \"M1 A1\")\n",
    "visualise_2(1,3,2,m1_a2_p, \"M1 A2\")\n",
    "visualise_2(1,3,3,m1_a3_p, \"M1 A3\")"
   ]
  },
  {
   "cell_type": "markdown",
   "metadata": {
    "colab_type": "text",
    "id": "kPtkBVJNH3XU"
   },
   "source": [
    "Model 1 is trained on the prior (10,1,1), this means that it favours Symbol 1 heavily when being tested on each test set. This is also the reason the for the increase in loss when being tested on A2, as they have a uniform prior. As the samples increase in each task the prior changes, this can be seen in the left column of \"M1 A2\" getting lighter each task."
   ]
  },
  {
   "cell_type": "code",
   "execution_count": 49,
   "metadata": {
    "colab": {
     "autoexec": {
      "startup": false,
      "wait_interval": 0
     },
     "base_uri": "https://localhost:8080/",
     "height": 362,
     "output_extras": [
      {
       "item_id": 1
      }
     ]
    },
    "colab_type": "code",
    "executionInfo": {
     "elapsed": 733,
     "status": "ok",
     "timestamp": 1522585284636,
     "user": {
      "displayName": "Nick Thomson",
      "photoUrl": "https://lh3.googleusercontent.com/a/default-user=s128",
      "userId": "116544489914488299457"
     },
     "user_tz": -60
    },
    "id": "aA6mThSgFSIs",
    "outputId": "47a94e4d-606c-4941-e812-461d8dc4972c"
   },
   "outputs": [
    {
     "data": {
      "image/png": "[encoded data removed]",
      "text/plain": [
       "<matplotlib.figure.Figure at 0x7f2006701630>"
      ]
     },
     "metadata": {
      "tags": []
     },
     "output_type": "display_data"
    }
   ],
   "source": [
    "visualise_2(1,3,1,m3_a1_p, \"M3 A1\")\n",
    "visualise_2(1,3,2,m3_a2_p, \"M3 A2\")\n",
    "visualise_2(1,3,3,m3_a3_p, \"M3 A3\")"
   ]
  },
  {
   "cell_type": "markdown",
   "metadata": {
    "colab_type": "text",
    "id": "-VoR9Y0CJP4V"
   },
   "source": [
    "M3 predicts with a uniform nature to start each task and M3A2 clearly shows that this doesn't change for this test. The other noticable difference was that M3A1 shows an increase in likelihood of predicting symbol 1, but the M3A3 predictions gave a much sharper increase. "
   ]
  },
  {
   "cell_type": "code",
   "execution_count": 50,
   "metadata": {
    "colab": {
     "autoexec": {
      "startup": false,
      "wait_interval": 0
     },
     "base_uri": "https://localhost:8080/",
     "height": 362,
     "output_extras": [
      {
       "item_id": 1
      }
     ]
    },
    "colab_type": "code",
    "executionInfo": {
     "elapsed": 808,
     "status": "ok",
     "timestamp": 1522585285641,
     "user": {
      "displayName": "Nick Thomson",
      "photoUrl": "https://lh3.googleusercontent.com/a/default-user=s128",
      "userId": "116544489914488299457"
     },
     "user_tz": -60
    },
    "id": "RlDFQwfeFSWL",
    "outputId": "c15c5dc2-d00c-47ce-97f8-1eacb095fcbb"
   },
   "outputs": [
    {
     "data": {
      "image/png": "[encoded data removed]",
      "text/plain": [
       "<matplotlib.figure.Figure at 0x7f2006b0d860>"
      ]
     },
     "metadata": {
      "tags": []
     },
     "output_type": "display_data"
    }
   ],
   "source": [
    "visualise_2(1,3,1,m2_a1_p, \"M2 A1\")\n",
    "visualise_2(1,3,2,m2_a2_p, \"M2 A2\")\n",
    "visualise_2(1,3,3,m2_a3_p, \"M2 A3\")"
   ]
  },
  {
   "cell_type": "markdown",
   "metadata": {
    "colab_type": "text",
    "id": "pb5s0_XdLG1c"
   },
   "source": [
    "M2A1 and M2A3 are predicting purely symbol 1 through this task. M2A2 shows slight changes in the predictions through however, symbol 1 is still heavily favoured."
   ]
  },
  {
   "cell_type": "code",
   "execution_count": 51,
   "metadata": {
    "colab": {
     "autoexec": {
      "startup": false,
      "wait_interval": 0
     },
     "base_uri": "https://localhost:8080/",
     "height": 379,
     "output_extras": [
      {
       "item_id": 1
      },
      {
       "item_id": 2
      }
     ]
    },
    "colab_type": "code",
    "executionInfo": {
     "elapsed": 777,
     "status": "ok",
     "timestamp": 1522585286591,
     "user": {
      "displayName": "Nick Thomson",
      "photoUrl": "https://lh3.googleusercontent.com/a/default-user=s128",
      "userId": "116544489914488299457"
     },
     "user_tz": -60
    },
    "id": "om0mBRmVI0JE",
    "outputId": "c2cc7910-b0aa-450e-976c-2cfde36e48da"
   },
   "outputs": [
    {
     "name": "stdout",
     "output_type": "stream",
     "text": [
      "(10000, 99, 4)\n"
     ]
    },
    {
     "data": {
      "image/png": "[encoded data removed]",
      "text/plain": [
       "<matplotlib.figure.Figure at 0x7f200688b9e8>"
      ]
     },
     "metadata": {
      "tags": []
     },
     "output_type": "display_data"
    }
   ],
   "source": [
    "visualise_2(1,3,1,m4_a1_p, \"M4 A1\")\n",
    "visualise_2(1,3,2,m4_a2_p, \"M4 A2\")\n",
    "visualise_2(1,3,3,m4_a3_p, \"M4 A3\")\n",
    "print(m4_a3_p.shape)"
   ]
  },
  {
   "cell_type": "markdown",
   "metadata": {
    "colab_type": "text",
    "id": "6b5xOhR2Lgj-"
   },
   "source": [
    "Simlarly to Model 3, the change in colour for M4A1 and M4A3 is noticable. The gradient with which M4A3 changes is much steeper. M4A2 is very similar to M3A2 in that it remains uniform across all symbols, this is expected as it was trained and test on a uniform prior."
   ]
  },
  {
   "cell_type": "markdown",
   "metadata": {
    "colab_type": "text",
    "id": "wSl5YYqCgm4D"
   },
   "source": [
    "### Bayesian Updates"
   ]
  },
  {
   "cell_type": "code",
   "execution_count": null,
   "metadata": {
    "colab": {
     "autoexec": {
      "startup": false,
      "wait_interval": 0
     }
    },
    "colab_type": "code",
    "id": "b_dhNHuSgpRM"
   },
   "outputs": [],
   "source": [
    "# Implement Bayesian update (as if you knew the 'right' prior and model)\n",
    "from collections import defaultdict\n",
    "\n",
    "\n",
    "class BayesianUpdate(object):\n",
    "\n",
    "  def __init__(self, alpha):\n",
    "    self._current_alpha = alpha\n",
    "    self._alpha = alpha\n",
    "    self._probabilities = np.zeros([99,4])    \n",
    "    self._counts = defaultdict(float)\n",
    "    self._timestep = 0\n",
    "    \n",
    "  def update(self, observation):\n",
    "    \n",
    "    symbol = np.argmax(observation)\n",
    "\n",
    "    self._counts[symbol] += 1.0\n",
    "    self._current_alpha[symbol] += 1.0\n",
    "\n",
    "    if self._timestep % 20 == 0:\n",
    "      self.reset()\n",
    "      symbol = 3\n",
    "    \n",
    "    self.save_probability(symbol, self._timestep)\n",
    "    self._timestep += 1\n",
    "      \n",
    "    \n",
    "  def reset(self):\n",
    "    self._counts = defaultdict(float)\n",
    "    self._current_alpha = self._alpha\n",
    "\n",
    "  def get_probability(self, symbol):  \n",
    "    \n",
    "    p = self._current_alpha[symbol]/np.sum(self._current_alpha)\n",
    "    \n",
    "    return p\n",
    "  \n",
    "  def save_probability(self, symbol, timestep):\n",
    "    \n",
    "    if symbol != 3:\n",
    "      \n",
    "      self._probabilities[timestep, :] = [self.get_probability(0), self.get_probability(1), self.get_probability(2), 0]\n",
    "    \n",
    "    else:\n",
    "      self._probabilities[timestep, :] = [0,0,0, 1]\n",
    "    \n",
    "  def return_probabilities(self):\n",
    "    return self._probabilities"
   ]
  },
  {
   "cell_type": "code",
   "execution_count": null,
   "metadata": {
    "colab": {
     "autoexec": {
      "startup": false,
      "wait_interval": 0
     }
    },
    "colab_type": "code",
    "id": "RsSiH1s_xfpz"
   },
   "outputs": [],
   "source": [
    "BM1 = BayesianUpdate([10., 1., 1.])\n",
    "BM2 = BayesianUpdate([1.3, 1.3, 1.3])\n",
    "BM3 = BayesianUpdate([10., 1., 1.])\n",
    "BM4 = BayesianUpdate([1.3, 1.3, 1.3])\n",
    "minibatch1 = get_minibatch(batch_size = 99, ntasks = 5, nsamples_per_task = 19,  alpha = (10.,1.,1.))\n",
    "minibatch2 = get_minibatch(batch_size = 99, ntasks = 5, nsamples_per_task = 19,  alpha = (1.3,1.3,1.3))\n",
    "minibatch3 = get_minibatch(batch_size = 99, ntasks = 5, nsamples_per_task = 19,  alpha = (1000,1.,1.))\n",
    "minibatch4 = get_minibatch(batch_size = 99, ntasks = 5, nsamples_per_task = 19,  alpha = (1000.,1.,1.))\n",
    "for i,j,k,l in zip(minibatch1, minibatch2, minibatch3, minibatch4):\n",
    "  BM1.update(i)\n",
    "  BM2.update(j)\n",
    "  BM3.update(k)\n",
    "  BM4.update(l)\n",
    "  \n",
    "BM1_probs = BM1.return_probabilities()\n",
    "BM2_probs = BM2.return_probabilities()\n",
    "BM3_probs = BM3.return_probabilities()\n",
    "BM4_probs = BM4.return_probabilities()"
   ]
  },
  {
   "cell_type": "code",
   "execution_count": 54,
   "metadata": {
    "colab": {
     "autoexec": {
      "startup": false,
      "wait_interval": 0
     },
     "base_uri": "https://localhost:8080/",
     "height": 379,
     "output_extras": [
      {
       "item_id": 1
      },
      {
       "item_id": 2
      }
     ]
    },
    "colab_type": "code",
    "executionInfo": {
     "elapsed": 918,
     "status": "ok",
     "timestamp": 1522585289054,
     "user": {
      "displayName": "Nick Thomson",
      "photoUrl": "https://lh3.googleusercontent.com/a/default-user=s128",
      "userId": "116544489914488299457"
     },
     "user_tz": -60
    },
    "id": "0PoqrDkoiKM5",
    "outputId": "38711cbc-3a8b-4f68-af7c-cd30e3897762"
   },
   "outputs": [
    {
     "data": {
      "text/plain": [
       "<matplotlib.image.AxesImage at 0x7f20063e7898>"
      ]
     },
     "execution_count": 54,
     "metadata": {
      "tags": []
     },
     "output_type": "execute_result"
    },
    {
     "data": {
      "image/png": "[encoded data removed]",
      "text/plain": [
       "<matplotlib.figure.Figure at 0x7f20368967f0>"
      ]
     },
     "metadata": {
      "tags": []
     },
     "output_type": "display_data"
    }
   ],
   "source": [
    "\n",
    "\n",
    "plt.subplot(141)\n",
    "plt.title('BM1 Preds')\n",
    "plt.imshow(BM1_probs, origin='lower', cmap=cm.Blues, aspect='auto', extent=[0,4,0,100])\n",
    "\n",
    "\n",
    "plt.subplot(142)\n",
    "plt.title('BM2 Preds')\n",
    "plt.imshow(BM2_probs, origin='lower', cmap=cm.Blues, aspect='auto', extent=[0,4,0,100])\n",
    "\n",
    "\n",
    "plt.subplot(143)\n",
    "plt.title('BM3 Preds')\n",
    "plt.imshow(BM3_probs, origin='lower', cmap=cm.Blues, aspect='auto', extent=[0,4,0,100])\n",
    "\n",
    "\n",
    "plt.subplot(144)\n",
    "plt.title('BM4 Preds')\n",
    "plt.imshow(BM4_probs, origin='lower', cmap=cm.Blues, aspect='auto', extent=[0,4,0,100])\n"
   ]
  },
  {
   "cell_type": "code",
   "execution_count": 55,
   "metadata": {
    "colab": {
     "autoexec": {
      "startup": false,
      "wait_interval": 0
     },
     "base_uri": "https://localhost:8080/",
     "height": 362,
     "output_extras": [
      {
       "item_id": 1
      }
     ]
    },
    "colab_type": "code",
    "executionInfo": {
     "elapsed": 679,
     "status": "ok",
     "timestamp": 1522585289804,
     "user": {
      "displayName": "Nick Thomson",
      "photoUrl": "https://lh3.googleusercontent.com/a/default-user=s128",
      "userId": "116544489914488299457"
     },
     "user_tz": -60
    },
    "id": "xmpz22HW6QjF",
    "outputId": "efe22e9b-9019-485c-97a8-7d81895f1b02"
   },
   "outputs": [
    {
     "data": {
      "image/png": "[encoded data removed]",
      "text/plain": [
       "<matplotlib.figure.Figure at 0x7f20368ca320>"
      ]
     },
     "metadata": {
      "tags": []
     },
     "output_type": "display_data"
    }
   ],
   "source": [
    "visualise_2(1,3,1,m4_a1_p, \"M4 A1\")\n",
    "visualise_2(1,3,2,m4_a2_p, \"M4 A2\")\n",
    "visualise_2(1,3,3,m4_a3_p, \"M4 A3\")"
   ]
  },
  {
   "cell_type": "code",
   "execution_count": 56,
   "metadata": {
    "colab": {
     "autoexec": {
      "startup": false,
      "wait_interval": 0
     },
     "base_uri": "https://localhost:8080/",
     "height": 362,
     "output_extras": [
      {
       "item_id": 1
      }
     ]
    },
    "colab_type": "code",
    "executionInfo": {
     "elapsed": 704,
     "status": "ok",
     "timestamp": 1522585290692,
     "user": {
      "displayName": "Nick Thomson",
      "photoUrl": "https://lh3.googleusercontent.com/a/default-user=s128",
      "userId": "116544489914488299457"
     },
     "user_tz": -60
    },
    "id": "x7bZW-l_6i3W",
    "outputId": "f71f6139-282e-4d6c-b1ee-5ccab39f2b60"
   },
   "outputs": [
    {
     "data": {
      "image/png": "[encoded data removed]",
      "text/plain": [
       "<matplotlib.figure.Figure at 0x7f20362a1c18>"
      ]
     },
     "metadata": {
      "tags": []
     },
     "output_type": "display_data"
    }
   ],
   "source": [
    "visualise_2(1,3,1,m2_a1_p, \"M2 A1\")\n",
    "visualise_2(1,3,2,m2_a2_p, \"M2 A2\")\n",
    "visualise_2(1,3,3,m2_a3_p, \"M2 A3\")"
   ]
  },
  {
   "cell_type": "markdown",
   "metadata": {
    "colab_type": "text",
    "id": "tV7q7GhR8ak1"
   },
   "source": [
    "The bayesian model performs interestingly on batch 2, the initial predictions eventually average out to the uniform prior of the data. Otherwise the bayesian model performs more similarly to model 2 than model 4. For batch 1 and 3 there is very little difference between model 2 and the bayesian model. For batch 4, the bayesian model quickly converges to the prior of the dataset."
   ]
  }
 ],
 "metadata": {
  "accelerator": "GPU",
  "colab": {
   "collapsed_sections": [],
   "default_view": {},
   "name": "16121669_DL_hw4.ipynb",
   "provenance": [
    {
     "file_id": "11EWqwo1YwHBezgDoui106nTUXji_Dv7Q",
     "timestamp": 1520965749770
    },
    {
     "file_id": "1RHkaH9Jnw3Wx-zMz91n3DdP0Nls5Q4cF",
     "timestamp": 1520684960888
    },
    {
     "file_id": "1rIaB6u2aCySDUkP0qdFyfZl0_tOLGWGb",
     "timestamp": 1518445000610
    },
    {
     "file_id": "1OsB2DpNo1-NciDOlB5Vrk2YE7zMl8Hds",
     "timestamp": 1518116978983
    },
    {
     "file_id": "1yFj1LZ7MPleNtBFX6NS9i1zwZ74huXrQ",
     "timestamp": 1517308250935
    }
   ],
   "version": "0.3.2",
   "views": {}
  },
  "kernelspec": {
   "display_name": "Python 3",
   "language": "python",
   "name": "python3"
  },
  "language_info": {
   "codemirror_mode": {
    "name": "ipython",
    "version": 3
   },
   "file_extension": ".py",
   "mimetype": "text/x-python",
   "name": "python",
   "nbconvert_exporter": "python",
   "pygments_lexer": "ipython3",
   "version": "3.6.5"
  }
 },
 "nbformat": 4,
 "nbformat_minor": 2
}
