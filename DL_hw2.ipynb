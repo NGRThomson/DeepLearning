{
 "cells": [
  {
   "cell_type": "markdown",
   "metadata": {
    "colab_type": "text",
    "id": "GHl6N3Xfkctm"
   },
   "source": [
    "# Deep Learning: Homework 2\n",
    "\n",
    "-------------------------------\n",
    "\n",
    "\n",
    "**Name:** Your Name\n",
    "\n",
    "**SN:** Your Student Number\n",
    "\n",
    "-----------------------------------\n",
    "\n",
    "\n",
    "**Start date:** *12th Feb 2018*\n",
    "\n",
    "**Due date:** *5th March 2018, 11:55 pm*\n",
    "\n",
    "------------------------------------\n",
    "\n",
    "## How to Submit\n",
    "\n",
    "When you have completed the exercises and everything has finsihed running, click on 'File' in the menu-bar and then 'Download .ipynb'. This file must be submitted to Moodle named as **studentnumber_DL_hw2.ipynb** before the deadline above.\n",
    "\n",
    "Also send a **sharable link** to the notebook at the following email: ucl.coursework.submit@gmail.com. You can also make it sharable via link to everyone, up to you.\n",
    "\n",
    "Please compile all results ( table in Q2) and all answers to the understanding/analysis results questions (Q1 and Q3), into a PDF. Name convention: **studentnumber_DL_hw2.pdf**. Do not include any of the code (we will use the notebook for that). \n",
    "\n",
    "**Page limit: 7 pg ** (w/o the bonus question).\n",
    "\n",
    "------------------------------------------------\n",
    "\n",
    "## MNIST as a sequence\n",
    "In this assignment we will be using the [MNIST digit dataset](https://yann.lecun.com/exdb/mnist/). The dataset contains images of hand-written digits ($0-9$), and the corresponding labels. The images have a resolution of $28\\times 28$ pixels. This is the same dataset as in Assignment 1, but we will be using this data a bit differently this time around. Since this assignment will be focusing on recurrent networks that model sequential data, we will be looking at each image as a sequence: the networks you train will be \"reading\" the image one row at a time, from top to bottom (we could even do pixel-by-pixel, but in the interest of time we'll do row-by-row which is faster).  Also, we will work with a binarized version of MNIST -- we constrain the values of the pixels to be either $0$ or $1$. You can do this by applying the method `binarize`, defined below, to the raw images.\n",
    "\n",
    "<img src=\"https://github.com/bodono/files/blob/master/mnist_as_sequence.png?raw=true\">\n",
    "\n",
    "* We take the MNIST images, binarise them, and interpret them as a sequence of pixels from top-left to bottom-right. (\"Task 2\" refers to the next homework, wherein you will be using the sequence for pixel prediction).\n",
    "\n",
    "## Recurrent Models for MNIST\n",
    "\n",
    "As discussed in the lectures, there are various ways and tasks for which we can use recurrent models. A depiction of the most common scenarios is available in the Figure below. In this assignment and the following one we will look at two of these forms: **many-to-one** (sequence to label/decision) and the **many-to-many** scenario where the model receives an input and produces an output at every time step. You will use these to solve the following tasks: i) classification (*this homework*), ii) pixel prediction (*next homework*) and iii) in-painting (*next homework*).\n",
    "\n",
    "<img src=\"https://github.com/bodono/files/blob/master/rnn_models.png?raw=true\">\n",
    "* ([Figure adapted from Karpathy's The Unreasonable Effectiveness of Recurrent Neural Networks](http://karpathy.github.io/2015/05/21/rnn-effectiveness)). You will be implementing variants of *many-to-one* for classification (in this homework), and *many-to-many* for prediction (in the next homework).\n"
   ]
  },
  {
   "cell_type": "markdown",
   "metadata": {
    "colab_type": "text",
    "id": "Dj6WmOJKYRTB"
   },
   "source": [
    "## Q1: Understanding LSTM vs GRU (30 pts)\n",
    "Before going deeper into your practical tasks, take some time to revise and make sure you understand the two major types of recurrent cells you will be using in this assignment: Long-Short Term Memory Units (LSTM) first introduced by Hochreiter and Schmidhuber [1997] and the more recent Gated Recurrent Units (GRU) by Cho et al. [2014]. Once you have done this, answer the following questions:\n",
    "\n",
    "1. Can LSTMs (and respectively GRUs) just store the current input in the state ($c_t$ for LSTM and $h_t$ for GRU, in the class notation) for the next step? If so, give the gates activation that would enable this behaviour. If not, explain why not. [10 pts]\n",
    "2. Can LSTMs (and respectively GRUs) just store a previous state into the current state and ignore the current input? If so, give the gates' activation that would enable this. If not, explain why not. [10 pts]\n",
    "3. Are GRUs a special case of LSTMs? If so, give the expression of the GRU gates in term of LSTM's gates ($o_t, i_t, f_t$). If not, give a counter-example. Assume here the same input. [10 pts]\n",
    "\n",
    "**Word limit: ** 1000 words or less\n",
    "\n",
    "1. For LSTMs this is not possible past the first cell, this is due to the concatenation of the $h_{t-1}$ to the input value $x_t$, this is done before all further calculations are completed. This means that the state $c_t$ is dependant on both $h_{t-1}$ and input $x_t$, meaning that you cannot just store the input without $h_{t-1} = 0$. For GRU the same is also true, this can be seen in the gate updates, $$z_t = \\sigma (W_z . [h_{t-1}, x_t])$$ $$r_t = \\sigma (W_r . [h_{t-1}, x_t])$$ $$\\tilde{h_t} = tanh(W . [r_t * h_{t-1}, x_t]) $$ Since they are all dependant on $h_{t-1}$ the cell cannot store just the input $x_t$ easily. Since $h_t$ is also dependant on $\\tilde{h_t}$, none of the gates can just store this information from $x_t$. \n",
    "\n",
    "2. For GRU it is easy to just repeat the previous output, this is seen in the equation $h_t = (1 - z_t)* h_{t-1} + z_t* \\tilde{h_t}$. If we wish to keep the state(or output as they are the same for GRUs) the same, $z_t = 1$ would give us $h_t = h_{t-1} $. This means that we have ignored the current input and stored the previous state/output as asked. This is harder for LSTMs, however by blocking off or saturating the remember gates ($i_t = 0$) and forget gates ($f_t = 0$) to 0 we let no new information into the state. Thus, we just have $c_t = c_{t-1}$, as required.\n",
    "\n",
    "3. No they are not. An example of this is that GRUs can repeat the previous output very simply by just setting the input gate ($x_t$) = 0, this is not possible for the LSTM because the previous output is passed through 2 tanh gates on the way through the cell before having an effect of the current output. While it is possible for the gates to return the values needed to repeat the previous output (although this could be very hard to achieve) this is impossible for an LSTM to achieve while it's quite simple for a GRU to achieve. Since we need to make the tanh gates in the LSTM equal to a linear function this requires extra attention and work with the LSTM, meaning that the GRU is not a special case of the LSTM."
   ]
  },
  {
   "cell_type": "markdown",
   "metadata": {
    "colab_type": "text",
    "id": "cqrTk9bLYTpp"
   },
   "source": [
    "## Q2: Implementation. Line-by-Line MNIST Classification (50 pts)\n",
    "In this part you will train a number of many-to-one recurrent models that takes as input: an image (or part of an image) as a sequence (row by row) and after the last input row produces, as output, a probability distribution over the $10$ possible labels ($0-9$). The models will be trained using a cross-entropy loss function over these output probabilities.\n",
    "\n",
    "### Optimization\n",
    "Use the Adam optimizer (with default settings other than the learning rate) for training.\n",
    "\n",
    "**[Optional]** Sometimes dropout has been shown to be beneficial in training recurrent models, so feel free to use it or any other form of regularization that seems to improve performance. It might be also worth trying out batch-normalization. [Reference](https://arxiv.org/pdf/1603.09025.pdf).\n",
    "\n",
    "### Models: Your models will have the following structure:\n",
    "1. [(Red Block)] The *input* (current binarised row of pixels) can be fed directly into the recurrent connection without  much further pre-processing. The only thing you need to do is have an affine transformation to match the dimensionality of the recurrent unit, i.e. one of $(32, 64, 128)$.\n",
    "2. [(Blue Block)] The *output* (probabilities over the 10 classes) is produced by looking at the last output of the recurrent units, transforming them via an affine transformation.\n",
    "3. [(Green Block)] For the *recurrent* part of the network, please implement and compare the following architectures:\n",
    "    * LSTM with 32, 64, 128 units. [15 pts]\n",
    "    * GRU with 32, 64, 128 units. [15 pts]\n",
    "    * stacked LSTM: 3 recurrent layers with 32 units each. [10 pts]\n",
    "    * stacked GRU: 3 recurrent layers with 32 units each. [10 pts]\n",
    "\n",
    "Your network should look like:\n",
    "\\begin{equation}\n",
    "\\textrm{Input} \\Rightarrow \\textrm{RNN cell} \\Rightarrow \\textrm{Relu} \\Rightarrow \\textrm{Fully connected} \\Rightarrow \\textrm{Relu} \\Rightarrow \\textrm{Fully connected} \\Rightarrow \\textrm{Output}\n",
    "\\end{equation}\n",
    "You might find the function `tf.nn.dynamic_rnn` useful.\n",
    "\n",
    "### Hyper-parameters \n",
    "For all cases train the model with these hyper-parameter settings:\n",
    "\n",
    "- *num_epochs*=10, *learning_rate*=0.001, *batch_size*=256, *fully_connected_hidden_units=64*\n",
    "\n",
    "With these hyper-parameters you should be comfortably above $95\\%$ test set accuracy on all tasks. (Feel free to try other settings, there are certainly better choices, but please report the results with these exact hyper-parameters). Please report the *cross-entropy* and the *classification accuracy* for the *test set* of the models trained. Use the `plot_summary_table` method below to format the table.\n"
   ]
  },
  {
   "cell_type": "markdown",
   "metadata": {
    "colab_type": "text",
    "id": "3oMPARSkfTO9"
   },
   "source": [
    "## Q3: Analyse the results (20 pts + 10 pts)\n",
    "\n",
    "1. How does this compare with the results you obtained in the first assignment(DL1), when training a model that \"sees\" the entire image at once? Explain differences. [5 pts]\n",
    "\n",
    "2. Let us take a look closer look at one of the trained models: say GRU (32). Plot the outputs of the RNN layer and hidden state over time. In particular, look at the first 3-5 time steps. Plot the input image along side. \n",
    "You can use ```python\n",
    "plt.imshow(output_GRU_over_time)\n",
    "```\n",
    "for these, where ```output_GRU_over_time.shape``` is (T=28,hidden_units) dimensional. What do you observe? Show at least one pair of these plots to support your observation(s). [5 pts]\n",
    "3. Now, look at the last 3-5 time steps. What do you observe? When is the classification decision made? To validate your answer to the second part of the question, provide the classification predictions for the last 5 time steps -- that is, pretend whatever the output of the GRU is at that time step is in fact the last output in the computation, and feed that into the classification mapping. [10 pts] \n",
    "\n",
    "**Word limit:** 500 words or less \n",
    "\n",
    "\n",
    "**[Bonus]** Let's looking inside the computation. Take one of the previous LSTM models (for simplicity pick one of the one-layer recurrence models) and track the status of the gates ($o_t, i_t, f_t$) over time. Note that if you used the provided RNNCell wrappers (BasicLSTMCell and co) in tensorflow, these will keep this information hidden, so you will need to implement your own version of this recurrence layer, or mirror the one in tensorflow, but now exposing these hidden variables. A bit of warning: this is not trivial and will require some thinking on the coding side, but it will also provide you with a more informative way of visulazing the inner computation.  [10 pts]\n",
    "\n",
    "**Word limit:** 300 words or less "
   ]
  },
  {
   "cell_type": "markdown",
   "metadata": {
    "colab_type": "text",
    "id": "8ic6_F5cVAUo"
   },
   "source": [
    "## Answers to Q3\n",
    "\n",
    "1. The results from the RNN's have better accuracy than the assignment 1 models. However they seem to have an upper bound to the results (98%) whilst the CNN (model 4) in assignment 1 was able to reach a higher accuracy. They also reached the high accuracy at a low number of epochs, compared to the assignment 1 models, often reach 90% accuracy in 3 epochs. The reason for the higher accuracy compared to the MLPs in DL1 could be due to the similar model and Adam Optimiser compared to SGD, this makes a huge difference in terms of convergence of to the higher accuracy in a shorter number of epochs.\n",
    "\n",
    "2. The output of the RNN over the initial 5 time steps has a lot less confidence its' predictions, this is shown as the rows have similar colour across all of the pixels in the row. They are not well defined and not useful for classification. In the analysis of results I have included a classification and training on the 5th time step. The accuracy of this model is very low and doesn't converge to any particular accuracy.\n",
    "\n",
    "3. The final 5 time steps of the RNN provide more confidence in the classification. The classification is made on the final output time step, however the confidence increases throughout the time steps. You can see the change in the gradients of the black/white scale, in the first few layers the output was greyed and unclear, while the final layer has more definite colours showing higher confidence in the classification. In the analysis of results we can see that when you vary the output layer between the last time step and the 5th last time step, the accuracy of the model does not change a lot. This means that the last 5 or so layers should be interchangable for both training and testing, this supports the hypothesis that the confidence of the classifcation is a lot higher in the final steps. "
   ]
  },
  {
   "cell_type": "markdown",
   "metadata": {
    "colab_type": "text",
    "id": "0wg-OYIMm8cW"
   },
   "source": [
    "# Imports and utility functions (do not modify!)"
   ]
  },
  {
   "cell_type": "code",
   "execution_count": null,
   "metadata": {
    "colab": {
     "autoexec": {
      "startup": false,
      "wait_interval": 0
     }
    },
    "colab_type": "code",
    "id": "rPYnfzQfltxp"
   },
   "outputs": [],
   "source": [
    "# Import useful libraries.\n",
    "import tensorflow as tf\n",
    "import matplotlib.pyplot as plt\n",
    "from tensorflow.examples.tutorials.mnist import input_data\n",
    "import numpy as np\n",
    "\n",
    "# Binarize the images\n",
    "def binarize(images, threshold=0.1):\n",
    "  return (threshold < images).astype('float32')\n",
    "\n",
    "# Import dataset with one-hot encoding of the class labels.\n",
    "def get_data():\n",
    "  return input_data.read_data_sets(\"MNIST_data/\", one_hot=True)\n",
    "\n",
    "# Placeholders to feed train and test data into the graph.\n",
    "# Since batch dimension is 'None', we can reuse them both for train and eval.\n",
    "def get_placeholders():\n",
    "  x = tf.placeholder(tf.float32, [None, 784])\n",
    "  y = tf.placeholder(tf.float32, [None, 10])\n",
    "  return x, y\n",
    "\n",
    "# Generate summary table of results. This function expects a dict with the\n",
    "# following structure: keys of 'LSTM' or 'GRU' and the values for each key are a\n",
    "# list of tuples consisting of (test_loss, test_accuracy), and the list is\n",
    "# ordered as the results from 32 units, 64 units, 128 units, 3 x 32 units, i.e.:\n",
    "# {\n",
    "#  'LSTM': [(loss,acc), (loss, acc), (loss, acc), (loss, acc)]\n",
    "#  'GRU': [(loss,acc), (loss, acc), (loss, acc), (loss, acc)]\n",
    "# }\n",
    "def plot_summary_table(experiment_results):\n",
    "  # Fill Data.\n",
    "  cell_text = []\n",
    "  columns = ['(1 layer, 32 units)', '(1 layer, 64 units)', '(1 layer, 128 units)', '(3 layers, 32 units)']\n",
    "  for k, v in experiment_results.items():\n",
    "    rows = ['Test loss', 'Test accuracy']\n",
    "    cell_text=[[],[]]\n",
    "    for (l, _) in v:\n",
    "      cell_text[0].append(str(l))\n",
    "    for (_, a) in v:\n",
    "      cell_text[1].append(str(a))\n",
    "\n",
    "    fig=plt.figure(frameon=False)\n",
    "    ax = plt.gca()\n",
    "    the_table = ax.table(\n",
    "      cellText=cell_text,\n",
    "      rowLabels=rows,\n",
    "      colLabels=columns,\n",
    "      loc='center')\n",
    "    the_table.scale(2, 8)\n",
    "    # Prettify.\n",
    "    ax.patch.set_facecolor('None')\n",
    "    ax.xaxis.set_visible(False)\n",
    "    ax.yaxis.set_visible(False)\n",
    "    ax.text(-0.73, 0.9, k, fontsize=18)"
   ]
  },
  {
   "cell_type": "markdown",
   "metadata": {
    "colab_type": "text",
    "id": "a6ecVcTO3xZU"
   },
   "source": [
    "# Train Models\n",
    "\n",
    "Generate summary table of results. This function expects a dict with the\n",
    "following structure: keys of 'LSTM' or 'GRU' and the values for each key are a\n",
    "list of tuples consisting of (test_loss, test_accuracy), and the list is\n",
    "ordered as the results from 32 units, 64 units, 128 units, 3 x 32 units, i.e. expected dictionary (final performace only):\n",
    "\n",
    "```python\n",
    "{\n",
    "  'LSTM': [(loss,acc), (loss, acc), (loss, acc), (loss, acc)]\n",
    "  'GRU': [(loss,acc), (loss, acc), (loss, acc), (loss, acc)]\n",
    "}\n",
    "```"
   ]
  },
  {
   "cell_type": "code",
   "execution_count": null,
   "metadata": {
    "colab": {
     "autoexec": {
      "startup": false,
      "wait_interval": 0
     }
    },
    "colab_type": "code",
    "id": "LyZNQvH26R1q"
   },
   "outputs": [],
   "source": [
    "# Training Parameters\n",
    "learning_rate = 0.001\n",
    "num_epochs = 10\n",
    "batch_size=256\n",
    "fully_connected_hidden_units=64\n",
    "num_input = 28\n",
    "timesteps = 28\n",
    "num_classes = 10\n",
    "settings = [(32, 'LSTM', 1), (32, 'GRU', 1), (64, 'LSTM', 1), (64, 'GRU', 1), \n",
    "            (128, 'LSTM', 1), (128, 'GRU', 1), (32, 'LSTM', 3), (32, 'GRU', 3)]\n",
    "\n",
    "def RNN(x, weights, biases, num_hidden, cell_type, num_layers):\n",
    "\n",
    "    x = tf.unstack(x, timesteps, 1)\n",
    "\n",
    "    with tf.name_scope('rnn'):\n",
    "      cell = tf.nn.rnn_cell.MultiRNNCell(\n",
    "          [cells(cell_type, num_hidden) for _ in range(num_layers)])\n",
    "      \n",
    "    outputs, states = tf.nn.static_rnn(cell, x, dtype=tf.float32)\n",
    "    outputs  = tf.nn.relu(outputs)\n",
    "    hidden_layer =  tf.nn.relu(tf.matmul(outputs[-1], weights['hidden']) + biases['hidden'])\n",
    "    out = tf.matmul(hidden_layer, weights['out']) + biases['out']\n",
    "    return out, outputs\n",
    "  \n",
    "def cells(cell_type, size):\n",
    "  if cell_type == \"GRU\":\n",
    "    cell = tf.nn.rnn_cell.GRUCell(size)\n",
    "  elif cell_type == \"LSTM\":\n",
    "    cell = tf.nn.rnn_cell.BasicLSTMCell(size)\n",
    "  return cell"
   ]
  },
  {
   "cell_type": "code",
   "execution_count": null,
   "metadata": {
    "colab": {
     "autoexec": {
      "startup": false,
      "wait_interval": 0
     },
     "base_uri": "https://localhost:8080/",
     "height": 2329,
     "output_extras": [
      {},
      {}
     ]
    },
    "colab_type": "code",
    "executionInfo": {
     "elapsed": 381436,
     "status": "ok",
     "timestamp": 1520880909317,
     "user": {
      "displayName": "Nick Thomson",
      "photoUrl": "https://lh3.googleusercontent.com/a/default-user=s128",
      "userId": "112908770786768430312"
     },
     "user_tz": 0
    },
    "id": "7gQY9NP04tQz",
    "outputId": "7a40edb8-a482-443c-c106-3cf353bc1ef6"
   },
   "outputs": [
    {
     "name": "stdout",
     "output_type": "stream",
     "text": [
      "Extracting MNIST_data/train-images-idx3-ubyte.gz\n",
      "Extracting MNIST_data/train-labels-idx1-ubyte.gz\n",
      "Extracting MNIST_data/t10k-images-idx3-ubyte.gz\n",
      "Extracting MNIST_data/t10k-labels-idx1-ubyte.gz\n",
      "Number of RNN units: 32   Cell Type: LSTM   Layers: 1\n",
      "Epoch 1, Loss = 186.9852, Training Accuracy = 0.789\n",
      "Epoch 2, Loss = 104.1852, Training Accuracy = 0.863\n",
      "Epoch 3, Loss = 52.7163, Training Accuracy = 0.945\n",
      "Epoch 4, Loss = 41.5703, Training Accuracy = 0.953\n",
      "Epoch 5, Loss = 45.4334, Training Accuracy = 0.957\n",
      "Epoch 6, Loss = 22.1520, Training Accuracy = 0.977\n",
      "Epoch 7, Loss = 27.8425, Training Accuracy = 0.965\n",
      "Epoch 8, Loss = 22.5637, Training Accuracy = 0.977\n",
      "Epoch 9, Loss = 27.5884, Training Accuracy = 0.969\n",
      "Epoch 10, Loss = 41.0630, Training Accuracy = 0.961\n",
      "Testing Accuracy: 0.9621 \n",
      "\n",
      "Extracting MNIST_data/train-images-idx3-ubyte.gz\n",
      "Extracting MNIST_data/train-labels-idx1-ubyte.gz\n",
      "Extracting MNIST_data/t10k-images-idx3-ubyte.gz\n",
      "Extracting MNIST_data/t10k-labels-idx1-ubyte.gz\n",
      "Number of RNN units: 32   Cell Type: GRU   Layers: 1\n",
      "Epoch 1, Loss = 179.6815, Training Accuracy = 0.766\n",
      "Epoch 2, Loss = 97.6946, Training Accuracy = 0.875\n",
      "Epoch 3, Loss = 59.5379, Training Accuracy = 0.934\n",
      "Epoch 4, Loss = 23.8571, Training Accuracy = 0.973\n",
      "Epoch 5, Loss = 50.3791, Training Accuracy = 0.941\n",
      "Epoch 6, Loss = 41.8752, Training Accuracy = 0.965\n",
      "Epoch 7, Loss = 15.8313, Training Accuracy = 0.977\n",
      "Epoch 8, Loss = 25.5624, Training Accuracy = 0.973\n",
      "Epoch 9, Loss = 17.8325, Training Accuracy = 0.984\n",
      "Epoch 10, Loss = 15.3559, Training Accuracy = 0.984\n",
      "Testing Accuracy: 0.9699 \n",
      "\n",
      "Extracting MNIST_data/train-images-idx3-ubyte.gz\n",
      "Extracting MNIST_data/train-labels-idx1-ubyte.gz\n",
      "Extracting MNIST_data/t10k-images-idx3-ubyte.gz\n",
      "Extracting MNIST_data/t10k-labels-idx1-ubyte.gz\n",
      "Number of RNN units: 64   Cell Type: LSTM   Layers: 1\n",
      "Epoch 1, Loss = 112.9911, Training Accuracy = 0.871\n",
      "Epoch 2, Loss = 84.3886, Training Accuracy = 0.906\n",
      "Epoch 3, Loss = 30.3016, Training Accuracy = 0.977\n",
      "Epoch 4, Loss = 40.4260, Training Accuracy = 0.953\n",
      "Epoch 5, Loss = 23.7608, Training Accuracy = 0.977\n",
      "Epoch 6, Loss = 31.9619, Training Accuracy = 0.957\n",
      "Epoch 7, Loss = 21.8906, Training Accuracy = 0.973\n",
      "Epoch 8, Loss = 35.8706, Training Accuracy = 0.957\n",
      "Epoch 9, Loss = 23.4335, Training Accuracy = 0.965\n",
      "Epoch 10, Loss = 28.3796, Training Accuracy = 0.965\n",
      "Testing Accuracy: 0.9724 \n",
      "\n",
      "Extracting MNIST_data/train-images-idx3-ubyte.gz\n",
      "Extracting MNIST_data/train-labels-idx1-ubyte.gz\n",
      "Extracting MNIST_data/t10k-images-idx3-ubyte.gz\n",
      "Extracting MNIST_data/t10k-labels-idx1-ubyte.gz\n",
      "Number of RNN units: 64   Cell Type: GRU   Layers: 1\n",
      "Epoch 1, Loss = 89.6728, Training Accuracy = 0.906\n",
      "Epoch 2, Loss = 63.5376, Training Accuracy = 0.922\n",
      "Epoch 3, Loss = 55.7598, Training Accuracy = 0.934\n",
      "Epoch 4, Loss = 29.2875, Training Accuracy = 0.969\n",
      "Epoch 5, Loss = 25.1933, Training Accuracy = 0.977\n",
      "Epoch 6, Loss = 19.1401, Training Accuracy = 0.980\n",
      "Epoch 7, Loss = 11.2080, Training Accuracy = 0.984\n",
      "Epoch 8, Loss = 13.0054, Training Accuracy = 0.984\n",
      "Epoch 9, Loss = 10.2402, Training Accuracy = 0.980\n",
      "Epoch 10, Loss = 5.7428, Training Accuracy = 0.996\n",
      "Testing Accuracy: 0.9724 \n",
      "\n",
      "Extracting MNIST_data/train-images-idx3-ubyte.gz\n",
      "Extracting MNIST_data/train-labels-idx1-ubyte.gz\n",
      "Extracting MNIST_data/t10k-images-idx3-ubyte.gz\n",
      "Extracting MNIST_data/t10k-labels-idx1-ubyte.gz\n",
      "Number of RNN units: 128   Cell Type: LSTM   Layers: 1\n",
      "Epoch 1, Loss = 74.6772, Training Accuracy = 0.910\n",
      "Epoch 2, Loss = 39.6122, Training Accuracy = 0.941\n",
      "Epoch 3, Loss = 38.4106, Training Accuracy = 0.957\n",
      "Epoch 4, Loss = 28.9726, Training Accuracy = 0.969\n",
      "Epoch 5, Loss = 18.9290, Training Accuracy = 0.977\n",
      "Epoch 6, Loss = 18.7540, Training Accuracy = 0.969\n",
      "Epoch 7, Loss = 22.8048, Training Accuracy = 0.965\n",
      "Epoch 8, Loss = 9.3809, Training Accuracy = 0.980\n",
      "Epoch 9, Loss = 4.7088, Training Accuracy = 1.000\n",
      "Epoch 10, Loss = 8.7270, Training Accuracy = 0.984\n",
      "Testing Accuracy: 0.9798 \n",
      "\n",
      "Extracting MNIST_data/train-images-idx3-ubyte.gz\n",
      "Extracting MNIST_data/train-labels-idx1-ubyte.gz\n",
      "Extracting MNIST_data/t10k-images-idx3-ubyte.gz\n",
      "Extracting MNIST_data/t10k-labels-idx1-ubyte.gz\n",
      "Number of RNN units: 128   Cell Type: GRU   Layers: 1\n",
      "Epoch 1, Loss = 63.0155, Training Accuracy = 0.914\n",
      "Epoch 2, Loss = 28.3718, Training Accuracy = 0.969\n",
      "Epoch 3, Loss = 10.3425, Training Accuracy = 0.992\n",
      "Epoch 4, Loss = 22.3079, Training Accuracy = 0.973\n",
      "Epoch 5, Loss = 8.3400, Training Accuracy = 0.996\n",
      "Epoch 6, Loss = 9.2913, Training Accuracy = 0.984\n",
      "Epoch 7, Loss = 21.7688, Training Accuracy = 0.969\n",
      "Epoch 8, Loss = 15.4269, Training Accuracy = 0.980\n",
      "Epoch 9, Loss = 21.5059, Training Accuracy = 0.984\n",
      "Epoch 10, Loss = 6.1459, Training Accuracy = 0.996\n",
      "Testing Accuracy: 0.9848 \n",
      "\n",
      "Extracting MNIST_data/train-images-idx3-ubyte.gz\n",
      "Extracting MNIST_data/train-labels-idx1-ubyte.gz\n",
      "Extracting MNIST_data/t10k-images-idx3-ubyte.gz\n",
      "Extracting MNIST_data/t10k-labels-idx1-ubyte.gz\n",
      "Number of RNN units: 32   Cell Type: LSTM   Layers: 3\n",
      "Epoch 1, Loss = 128.6953, Training Accuracy = 0.879\n",
      "Epoch 2, Loss = 101.5354, Training Accuracy = 0.871\n",
      "Epoch 3, Loss = 59.8441, Training Accuracy = 0.934\n",
      "Epoch 4, Loss = 37.6391, Training Accuracy = 0.957\n",
      "Epoch 5, Loss = 45.4267, Training Accuracy = 0.934\n",
      "Epoch 6, Loss = 27.8406, Training Accuracy = 0.977\n",
      "Epoch 7, Loss = 30.4116, Training Accuracy = 0.965\n",
      "Epoch 8, Loss = 24.2852, Training Accuracy = 0.980\n",
      "Epoch 9, Loss = 22.0525, Training Accuracy = 0.980\n",
      "Epoch 10, Loss = 17.5213, Training Accuracy = 0.988\n",
      "Testing Accuracy: 0.9723 \n",
      "\n",
      "Extracting MNIST_data/train-images-idx3-ubyte.gz\n",
      "Extracting MNIST_data/train-labels-idx1-ubyte.gz\n",
      "Extracting MNIST_data/t10k-images-idx3-ubyte.gz\n",
      "Extracting MNIST_data/t10k-labels-idx1-ubyte.gz\n",
      "Number of RNN units: 32   Cell Type: GRU   Layers: 3\n",
      "Epoch 1, Loss = 127.9583, Training Accuracy = 0.832\n",
      "Epoch 2, Loss = 62.8940, Training Accuracy = 0.922\n",
      "Epoch 3, Loss = 39.7942, Training Accuracy = 0.965\n",
      "Epoch 4, Loss = 17.4215, Training Accuracy = 0.980\n",
      "Epoch 5, Loss = 30.8180, Training Accuracy = 0.973\n",
      "Epoch 6, Loss = 21.5373, Training Accuracy = 0.973\n",
      "Epoch 7, Loss = 33.6083, Training Accuracy = 0.965\n",
      "Epoch 8, Loss = 9.0110, Training Accuracy = 0.992\n",
      "Epoch 9, Loss = 15.9028, Training Accuracy = 0.984\n",
      "Epoch 10, Loss = 19.4333, Training Accuracy = 0.984\n",
      "Testing Accuracy: 0.9835 \n",
      "\n"
     ]
    }
   ],
   "source": [
    "experiment_results = {'LSTM': [], 'GRU': []}\n",
    "output_GRU, full = [], []\n",
    "epochs = 0\n",
    "with tf.device(\"/gpu:0\"):\n",
    "\n",
    "  for units, cell, layers in settings:\n",
    "    mnist = get_data()\n",
    "    print(\"Number of RNN units:\", units, \"  Cell Type:\", cell, \"  Layers:\", layers)\n",
    "    tf.reset_default_graph()\n",
    "    X = tf.placeholder(\"float\", [None, timesteps, num_input])\n",
    "    Y = tf.placeholder(\"float\", [None, num_classes])\n",
    "\n",
    "\n",
    "    weights = {\n",
    "      'hidden': tf.Variable(tf.contrib.layers.xavier_initializer()([units, fully_connected_hidden_units])),\n",
    "      'out': tf.Variable(tf.contrib.layers.xavier_initializer()([fully_connected_hidden_units, num_classes]))\n",
    "    }\n",
    "    biases = {\n",
    "      'hidden': tf.Variable(tf.contrib.layers.xavier_initializer()([fully_connected_hidden_units])),\n",
    "      'out': tf.Variable(tf.contrib.layers.xavier_initializer()([num_classes]))\n",
    "    }\n",
    "\n",
    "    logits, states = RNN(X, weights, biases, units, cell, layers)\n",
    "    \n",
    "    prediction = tf.nn.softmax(logits)\n",
    "\n",
    "    # Define loss and optimizer\n",
    "    loss_op = tf.reduce_sum(tf.nn.softmax_cross_entropy_with_logits_v2(\n",
    "        logits=logits, labels=Y))\n",
    "    optimizer = tf.train.AdamOptimizer()\n",
    "    train_op = optimizer.minimize(loss_op)\n",
    "\n",
    "    # Evaluate model (with test logits, for dropout to be disabled)\n",
    "    correct_pred = tf.equal(tf.argmax(prediction, 1), tf.argmax(Y, 1))\n",
    "    accuracy = tf.reduce_mean(tf.cast(correct_pred, tf.float64))\n",
    "\n",
    "    # Initialize the variables (i.e. assign their default value)\n",
    "    init = tf.global_variables_initializer()\n",
    "\n",
    "    # Start training\n",
    "    with tf.Session() as sess:\n",
    "\n",
    "        # Run the initializer\n",
    "        sess.run(init)\n",
    "\n",
    "        while mnist.train.epochs_completed < num_epochs:\n",
    "          \n",
    "          batch_x, batch_y = mnist.train.next_batch(batch_size)\n",
    "          batch_x = batch_x.reshape((batch_size, timesteps, num_input))\n",
    "          sess.run(train_op, feed_dict={X: batch_x, Y: batch_y})\n",
    "          if mnist.train.epochs_completed > epochs:\n",
    "\n",
    "            loss, sts, acc = sess.run([loss_op, states, accuracy], feed_dict={X: batch_x,\n",
    "                                                               Y: batch_y})\n",
    "            if cell == \"GRU\" and units == 32 and layers == 1:\n",
    "              output_GRU.append(sts)\n",
    "              full.append(batch_x)  \n",
    "            print(\"Epoch {}, Loss = {:.4f}, Training Accuracy = {:.3f}\".format(\n",
    "                mnist.train.epochs_completed, loss, acc))\n",
    "          epochs = mnist.train.epochs_completed \n",
    "          \n",
    "        test_data = mnist.test.images.reshape((-1, timesteps, num_input))\n",
    "        test_label = mnist.test.labels\n",
    "        loss_t, acc_t = sess.run([loss_op, accuracy], feed_dict={X: test_data, \n",
    "                                                                 Y: test_label})\n",
    "        \n",
    "        print(\"Testing Accuracy:\", \\\n",
    "            acc_t, '\\n')\n",
    "    \n",
    "    experiment_results[cell].append((loss_t, acc_t))\n"
   ]
  },
  {
   "cell_type": "markdown",
   "metadata": {
    "colab_type": "text",
    "id": "hr-L9cZl37ek"
   },
   "source": [
    "#Results"
   ]
  },
  {
   "cell_type": "code",
   "execution_count": null,
   "metadata": {
    "colab": {
     "autoexec": {
      "startup": false,
      "wait_interval": 0
     },
     "base_uri": "https://localhost:8080/",
     "height": 643,
     "output_extras": [
      {},
      {}
     ]
    },
    "colab_type": "code",
    "executionInfo": {
     "elapsed": 1037,
     "status": "ok",
     "timestamp": 1520880910387,
     "user": {
      "displayName": "Nick Thomson",
      "photoUrl": "https://lh3.googleusercontent.com/a/default-user=s128",
      "userId": "112908770786768430312"
     },
     "user_tz": 0
    },
    "id": "CtDksStF35Vb",
    "outputId": "1c2bcc3b-b411-41b1-d196-070dfb699752"
   },
   "outputs": [
    {
     "data": {
      "image/png": "[encoded data removed]",
      "text/plain": [
       "<matplotlib.figure.Figure at 0x7f684dc79438>"
      ]
     },
     "metadata": {
      "tags": []
     },
     "output_type": "display_data"
    },
    {
     "data": {
      "image/png": "[encoded data removed]",
      "text/plain": [
       "<matplotlib.figure.Figure at 0x7f683ae20080>"
      ]
     },
     "metadata": {
      "tags": []
     },
     "output_type": "display_data"
    }
   ],
   "source": [
    "plot_summary_table(experiment_results)"
   ]
  },
  {
   "cell_type": "markdown",
   "metadata": {
    "colab_type": "text",
    "id": "3CNBAL086a6o"
   },
   "source": [
    "# Analysis of results"
   ]
  },
  {
   "cell_type": "code",
   "execution_count": null,
   "metadata": {
    "colab": {
     "autoexec": {
      "startup": false,
      "wait_interval": 0
     }
    },
    "colab_type": "code",
    "id": "TavuZaRoAv6G"
   },
   "outputs": [],
   "source": [
    "output_GRU_over_time = np.array(output_GRU)\n",
    "output_GRU_over_time = output_GRU_over_time[0,:,0,:]\n",
    "binarized_input_image = np.array(full)\n",
    "binarized_input_image = binarized_input_image[0,0,:,:] "
   ]
  },
  {
   "cell_type": "code",
   "execution_count": null,
   "metadata": {
    "colab": {
     "autoexec": {
      "startup": false,
      "wait_interval": 0
     },
     "base_uri": "https://localhost:8080/",
     "height": 879,
     "output_extras": [
      {},
      {},
      {},
      {}
     ]
    },
    "colab_type": "code",
    "executionInfo": {
     "elapsed": 1004,
     "status": "ok",
     "timestamp": 1520880911964,
     "user": {
      "displayName": "Nick Thomson",
      "photoUrl": "https://lh3.googleusercontent.com/a/default-user=s128",
      "userId": "112908770786768430312"
     },
     "user_tz": 0
    },
    "id": "xATSlG0x6YpQ",
    "outputId": "1cf32416-1cc1-47aa-86c3-e17048a2aab2"
   },
   "outputs": [
    {
     "data": {
      "image/png": "[encoded data removed]",
      "text/plain": [
       "<matplotlib.figure.Figure at 0x7f683adf8dd8>"
      ]
     },
     "metadata": {
      "tags": []
     },
     "output_type": "display_data"
    },
    {
     "data": {
      "image/png": "[encoded data removed]",
      "text/plain": [
       "<matplotlib.figure.Figure at 0x7f683adb20f0>"
      ]
     },
     "metadata": {
      "tags": []
     },
     "output_type": "display_data"
    },
    {
     "data": {
      "image/png": "[encoded data removed]",
      "text/plain": [
       "<matplotlib.figure.Figure at 0x7f683accbef0>"
      ]
     },
     "metadata": {
      "tags": []
     },
     "output_type": "display_data"
    },
    {
     "data": {
      "image/png": "[encoded data removed]",
      "text/plain": [
       "<matplotlib.figure.Figure at 0x7f683ace4908>"
      ]
     },
     "metadata": {
      "tags": []
     },
     "output_type": "display_data"
    }
   ],
   "source": [
    "# Look into the GRU computation over time\n",
    "\n",
    "\n",
    "# plot one sample over time\n",
    "plt.imshow(output_GRU_over_time)\n",
    "plt.show()\n",
    "plt.imshow(binarized_input_image)\n",
    "plt.show()\n",
    "# Feel free to pick a sample from the dataset that more closely supports your \n",
    "# answers in Q3.\n",
    "\n",
    "# first 5 steps in the computation\n",
    "plt.imshow(output_GRU_over_time[:5,:])\n",
    "plt.show()\n",
    "# last 5 steps in the computation\n",
    "plt.imshow(output_GRU_over_time[-5:,:])\n",
    "plt.show()"
   ]
  },
  {
   "cell_type": "code",
   "execution_count": null,
   "metadata": {
    "colab": {
     "autoexec": {
      "startup": false,
      "wait_interval": 0
     }
    },
    "colab_type": "code",
    "id": "-Yke5YXO6emI"
   },
   "outputs": [],
   "source": [
    "\n",
    "# Training Parameters\n",
    "learning_rate = 0.001\n",
    "num_epochs = 10\n",
    "batch_size=256\n",
    "fully_connected_hidden_units=64\n",
    "num_input = 28\n",
    "timesteps = 28\n",
    "num_classes = 10\n",
    "settings = [(32, 'GRU', 4),(32, 'GRU', -1),(32, 'GRU', -2),(32, 'GRU', -3), (32, 'GRU', -4), (32, 'GRU', -5)]\n",
    "\n",
    "def GRU_test(x, weights, biases, num_hidden, cell_type, num_layers, output_layer):\n",
    "\n",
    "    x = tf.unstack(x, timesteps, 1)\n",
    "\n",
    "    with tf.name_scope('rnn'):\n",
    "      cell = tf.nn.rnn_cell.MultiRNNCell(\n",
    "          [cells(cell_type, num_hidden) for _ in range(num_layers)])\n",
    "      \n",
    "    outputs, states = tf.nn.static_rnn(cell, x, dtype=tf.float32)\n",
    "    outputs  = tf.nn.relu(outputs)\n",
    "    hidden_layer =  tf.nn.relu(tf.matmul(outputs[output_layer], weights['hidden']) + biases['hidden'])\n",
    "    out = tf.matmul(hidden_layer, weights['out']) + biases['out']\n",
    "    return out, outputs\n",
    "  \n",
    "def cells(cell_type, size):\n",
    "  if cell_type == \"GRU\":\n",
    "    cell = tf.nn.rnn_cell.GRUCell(size)\n",
    "  elif cell_type == \"LSTM\":\n",
    "    cell = tf.nn.rnn_cell.BasicLSTMCell(size)\n",
    "  return cell"
   ]
  },
  {
   "cell_type": "code",
   "execution_count": null,
   "metadata": {
    "colab": {
     "autoexec": {
      "startup": false,
      "wait_interval": 0
     },
     "base_uri": "https://localhost:8080/",
     "height": 1751,
     "output_extras": [
      {},
      {}
     ]
    },
    "colab_type": "code",
    "executionInfo": {
     "elapsed": 203496,
     "status": "ok",
     "timestamp": 1520881116033,
     "user": {
      "displayName": "Nick Thomson",
      "photoUrl": "https://lh3.googleusercontent.com/a/default-user=s128",
      "userId": "112908770786768430312"
     },
     "user_tz": 0
    },
    "id": "xVnTIik92jOv",
    "outputId": "416b8d86-05ad-46cf-81b6-c06d026b2989"
   },
   "outputs": [
    {
     "name": "stdout",
     "output_type": "stream",
     "text": [
      "Extracting MNIST_data/train-images-idx3-ubyte.gz\n",
      "Extracting MNIST_data/train-labels-idx1-ubyte.gz\n",
      "Extracting MNIST_data/t10k-images-idx3-ubyte.gz\n",
      "Extracting MNIST_data/t10k-labels-idx1-ubyte.gz\n",
      "Number of RNN units: 32   Cell Type: GRU   Output Layer: 4\n",
      "Epoch 1, Loss = 467.8308, Training Accuracy = 0.309\n",
      "Epoch 2, Loss = 470.7102, Training Accuracy = 0.324\n",
      "Epoch 3, Loss = 456.8329, Training Accuracy = 0.367\n",
      "Epoch 4, Loss = 451.3842, Training Accuracy = 0.316\n",
      "Epoch 5, Loss = 435.0717, Training Accuracy = 0.348\n",
      "Epoch 6, Loss = 453.5015, Training Accuracy = 0.375\n",
      "Epoch 7, Loss = 435.9677, Training Accuracy = 0.395\n",
      "Epoch 8, Loss = 452.8171, Training Accuracy = 0.312\n",
      "Epoch 9, Loss = 426.8704, Training Accuracy = 0.375\n",
      "Epoch 10, Loss = 409.5049, Training Accuracy = 0.383\n",
      "Testing Accuracy: 0.3452 \n",
      "\n",
      "Extracting MNIST_data/train-images-idx3-ubyte.gz\n",
      "Extracting MNIST_data/train-labels-idx1-ubyte.gz\n",
      "Extracting MNIST_data/t10k-images-idx3-ubyte.gz\n",
      "Extracting MNIST_data/t10k-labels-idx1-ubyte.gz\n",
      "Number of RNN units: 32   Cell Type: GRU   Output Layer: -1\n",
      "Epoch 1, Loss = 180.9458, Training Accuracy = 0.797\n",
      "Epoch 2, Loss = 85.9184, Training Accuracy = 0.898\n",
      "Epoch 3, Loss = 43.1215, Training Accuracy = 0.961\n",
      "Epoch 4, Loss = 56.3775, Training Accuracy = 0.938\n",
      "Epoch 5, Loss = 41.0812, Training Accuracy = 0.941\n",
      "Epoch 6, Loss = 20.6634, Training Accuracy = 0.980\n",
      "Epoch 7, Loss = 34.4104, Training Accuracy = 0.961\n",
      "Epoch 8, Loss = 26.6690, Training Accuracy = 0.965\n",
      "Epoch 9, Loss = 21.0221, Training Accuracy = 0.977\n",
      "Epoch 10, Loss = 15.7956, Training Accuracy = 0.980\n",
      "Testing Accuracy: 0.9691 \n",
      "\n",
      "Extracting MNIST_data/train-images-idx3-ubyte.gz\n",
      "Extracting MNIST_data/train-labels-idx1-ubyte.gz\n",
      "Extracting MNIST_data/t10k-images-idx3-ubyte.gz\n",
      "Extracting MNIST_data/t10k-labels-idx1-ubyte.gz\n",
      "Number of RNN units: 32   Cell Type: GRU   Output Layer: -2\n",
      "Epoch 1, Loss = 192.1963, Training Accuracy = 0.766\n",
      "Epoch 2, Loss = 110.2051, Training Accuracy = 0.867\n",
      "Epoch 3, Loss = 78.6554, Training Accuracy = 0.926\n",
      "Epoch 4, Loss = 54.3048, Training Accuracy = 0.930\n",
      "Epoch 5, Loss = 30.7113, Training Accuracy = 0.961\n",
      "Epoch 6, Loss = 30.1502, Training Accuracy = 0.969\n",
      "Epoch 7, Loss = 30.3963, Training Accuracy = 0.957\n",
      "Epoch 8, Loss = 24.3612, Training Accuracy = 0.973\n",
      "Epoch 9, Loss = 24.4136, Training Accuracy = 0.984\n",
      "Epoch 10, Loss = 39.1135, Training Accuracy = 0.957\n",
      "Testing Accuracy: 0.9707 \n",
      "\n",
      "Extracting MNIST_data/train-images-idx3-ubyte.gz\n",
      "Extracting MNIST_data/train-labels-idx1-ubyte.gz\n",
      "Extracting MNIST_data/t10k-images-idx3-ubyte.gz\n",
      "Extracting MNIST_data/t10k-labels-idx1-ubyte.gz\n",
      "Number of RNN units: 32   Cell Type: GRU   Output Layer: -3\n",
      "Epoch 1, Loss = 139.9662, Training Accuracy = 0.816\n",
      "Epoch 2, Loss = 66.9408, Training Accuracy = 0.934\n",
      "Epoch 3, Loss = 52.1311, Training Accuracy = 0.926\n",
      "Epoch 4, Loss = 42.2064, Training Accuracy = 0.953\n",
      "Epoch 5, Loss = 30.4669, Training Accuracy = 0.957\n",
      "Epoch 6, Loss = 40.1618, Training Accuracy = 0.953\n",
      "Epoch 7, Loss = 30.5216, Training Accuracy = 0.961\n",
      "Epoch 8, Loss = 28.9048, Training Accuracy = 0.965\n",
      "Epoch 9, Loss = 17.6352, Training Accuracy = 0.977\n",
      "Epoch 10, Loss = 26.9625, Training Accuracy = 0.965\n",
      "Testing Accuracy: 0.9703 \n",
      "\n",
      "Extracting MNIST_data/train-images-idx3-ubyte.gz\n",
      "Extracting MNIST_data/train-labels-idx1-ubyte.gz\n",
      "Extracting MNIST_data/t10k-images-idx3-ubyte.gz\n",
      "Extracting MNIST_data/t10k-labels-idx1-ubyte.gz\n",
      "Number of RNN units: 32   Cell Type: GRU   Output Layer: -4\n",
      "Epoch 1, Loss = 159.2591, Training Accuracy = 0.797\n",
      "Epoch 2, Loss = 84.0111, Training Accuracy = 0.895\n",
      "Epoch 3, Loss = 54.1735, Training Accuracy = 0.941\n",
      "Epoch 4, Loss = 37.9439, Training Accuracy = 0.969\n",
      "Epoch 5, Loss = 33.6298, Training Accuracy = 0.957\n",
      "Epoch 6, Loss = 31.6295, Training Accuracy = 0.957\n",
      "Epoch 7, Loss = 32.6912, Training Accuracy = 0.961\n",
      "Epoch 8, Loss = 19.1839, Training Accuracy = 0.973\n",
      "Epoch 9, Loss = 13.5678, Training Accuracy = 0.988\n",
      "Epoch 10, Loss = 31.4565, Training Accuracy = 0.969\n",
      "Testing Accuracy: 0.9733 \n",
      "\n",
      "Extracting MNIST_data/train-images-idx3-ubyte.gz\n",
      "Extracting MNIST_data/train-labels-idx1-ubyte.gz\n",
      "Extracting MNIST_data/t10k-images-idx3-ubyte.gz\n",
      "Extracting MNIST_data/t10k-labels-idx1-ubyte.gz\n",
      "Number of RNN units: 32   Cell Type: GRU   Output Layer: -5\n",
      "Epoch 1, Loss = 180.2934, Training Accuracy = 0.758\n",
      "Epoch 2, Loss = 65.2157, Training Accuracy = 0.941\n",
      "Epoch 3, Loss = 68.1566, Training Accuracy = 0.922\n",
      "Epoch 4, Loss = 23.7488, Training Accuracy = 0.977\n",
      "Epoch 5, Loss = 42.1654, Training Accuracy = 0.934\n",
      "Epoch 6, Loss = 34.4523, Training Accuracy = 0.957\n",
      "Epoch 7, Loss = 15.2274, Training Accuracy = 0.984\n",
      "Epoch 8, Loss = 38.2778, Training Accuracy = 0.961\n",
      "Epoch 9, Loss = 25.5959, Training Accuracy = 0.977\n",
      "Epoch 10, Loss = 28.7452, Training Accuracy = 0.973\n",
      "Testing Accuracy: 0.9704 \n",
      "\n"
     ]
    }
   ],
   "source": [
    "\n",
    "epochs = 0\n",
    "with tf.device(\"/gpu:0\"):\n",
    "\n",
    "  for units, cell, layers in settings:\n",
    "    mnist = get_data()\n",
    "    print(\"Number of RNN units:\", units, \"  Cell Type:\", cell, \"  Output Layer:\", layers)\n",
    "    tf.reset_default_graph()\n",
    "    X = tf.placeholder(\"float\", [None, timesteps, num_input])\n",
    "    Y = tf.placeholder(\"float\", [None, num_classes])\n",
    "\n",
    "\n",
    "    weights = {\n",
    "      'hidden': tf.Variable(tf.contrib.layers.xavier_initializer()([units, fully_connected_hidden_units])),\n",
    "      'out': tf.Variable(tf.contrib.layers.xavier_initializer()([fully_connected_hidden_units, num_classes]))\n",
    "    }\n",
    "    biases = {\n",
    "      'hidden': tf.Variable(tf.contrib.layers.xavier_initializer()([fully_connected_hidden_units])),\n",
    "      'out': tf.Variable(tf.contrib.layers.xavier_initializer()([num_classes]))\n",
    "    }\n",
    "\n",
    "    logits, states = GRU_test(X, weights, biases, units, cell, 1, layers)\n",
    "    \n",
    "    prediction = tf.nn.softmax(logits)\n",
    "\n",
    "    # Define loss and optimizer\n",
    "    loss_op = tf.reduce_sum(tf.nn.softmax_cross_entropy_with_logits_v2(\n",
    "        logits=logits, labels=Y))\n",
    "    optimizer = tf.train.AdamOptimizer()\n",
    "    train_op = optimizer.minimize(loss_op)\n",
    "\n",
    "    # Evaluate model (with test logits, for dropout to be disabled)\n",
    "    correct_pred = tf.equal(tf.argmax(prediction, 1), tf.argmax(Y, 1))\n",
    "    accuracy = tf.reduce_mean(tf.cast(correct_pred, tf.float64))\n",
    "\n",
    "    # Initialize the variables (i.e. assign their default value)\n",
    "    init = tf.global_variables_initializer()\n",
    "\n",
    "    # Start training\n",
    "    with tf.Session() as sess:\n",
    "\n",
    "        # Run the initializer\n",
    "        sess.run(init)\n",
    "\n",
    "        while mnist.train.epochs_completed < num_epochs:\n",
    "          \n",
    "          batch_x, batch_y = mnist.train.next_batch(batch_size)\n",
    "          batch_x = batch_x.reshape((batch_size, timesteps, num_input))\n",
    "          sess.run(train_op, feed_dict={X: batch_x, Y: batch_y})\n",
    "          if mnist.train.epochs_completed > epochs:\n",
    "\n",
    "            loss, sts, acc = sess.run([loss_op, states, accuracy], feed_dict={X: batch_x,\n",
    "                                                               Y: batch_y})\n",
    "\n",
    "            print(\"Epoch {}, Loss = {:.4f}, Training Accuracy = {:.3f}\".format(\n",
    "                mnist.train.epochs_completed, loss, acc))\n",
    "          epochs = mnist.train.epochs_completed \n",
    "          \n",
    "        test_data = mnist.test.images.reshape((-1, timesteps, num_input))\n",
    "        test_label = mnist.test.labels\n",
    "        loss_t, acc_t = sess.run([loss_op, accuracy], feed_dict={X: test_data, \n",
    "                                                                 Y: test_label})\n",
    "        \n",
    "        print(\"Testing Accuracy:\", \\\n",
    "            acc_t, '\\n')\n",
    "\n"
   ]
  }
 ],
 "metadata": {
  "accelerator": "GPU",
  "colab": {
   "collapsed_sections": [
    "Dj6WmOJKYRTB",
    "cqrTk9bLYTpp",
    "3oMPARSkfTO9",
    "8ic6_F5cVAUo"
   ],
   "default_view": {},
   "name": "16121669_DL_hw3.ipynb",
   "provenance": [
    {
     "file_id": "1rIaB6u2aCySDUkP0qdFyfZl0_tOLGWGb",
     "timestamp": 1518198218611
    },
    {
     "file_id": "1OsB2DpNo1-NciDOlB5Vrk2YE7zMl8Hds",
     "timestamp": 1518116978983
    },
    {
     "file_id": "1yFj1LZ7MPleNtBFX6NS9i1zwZ74huXrQ",
     "timestamp": 1517308250935
    }
   ],
   "version": "0.3.2",
   "views": {}
  },
  "kernelspec": {
   "display_name": "Python 3",
   "language": "python",
   "name": "python3"
  },
  "language_info": {
   "codemirror_mode": {
    "name": "ipython",
    "version": 3
   },
   "file_extension": ".py",
   "mimetype": "text/x-python",
   "name": "python",
   "nbconvert_exporter": "python",
   "pygments_lexer": "ipython3",
   "version": "3.6.5"
  }
 },
 "nbformat": 4,
 "nbformat_minor": 2
}
